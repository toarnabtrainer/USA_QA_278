{
 "cells": [
  {
   "cell_type": "markdown",
   "id": "e8decc2a-0d13-454e-a260-784bc43f15ab",
   "metadata": {},
   "source": [
    "# **Python Scripting**"
   ]
  },
  {
   "cell_type": "markdown",
   "id": "23332b4e-922d-4e73-87c9-501e2cd86c77",
   "metadata": {},
   "source": [
    "## **Day-1**"
   ]
  },
  {
   "cell_type": "markdown",
   "id": "bc148703-c2d4-47c6-9d85-6069749a170f",
   "metadata": {},
   "source": [
    "## **Python Inputs and Outputs**"
   ]
  },
  {
   "cell_type": "code",
   "execution_count": 3,
   "id": "45612f17-ede1-4a4c-b6eb-0d8a24944423",
   "metadata": {},
   "outputs": [
    {
     "name": "stdin",
     "output_type": "stream",
     "text": [
      "Please enter the first number:  100\n",
      "Please enter the second number:  300\n"
     ]
    },
    {
     "name": "stdout",
     "output_type": "stream",
     "text": [
      "<class 'str'> <class 'str'> <class 'str'>\n",
      "100 300 100300\n"
     ]
    }
   ],
   "source": [
    "num1 = input(\"Please enter the first number: \")\n",
    "num2 = input(\"Please enter the second number: \")\n",
    "total = num1 + num2    # string concatenation operation\n",
    "print (type(num1), type(num2), type(total))\n",
    "print (num1, num2, total)"
   ]
  },
  {
   "cell_type": "code",
   "execution_count": 5,
   "id": "0d7fe277-2376-4c63-9d3d-cbdcf4ace12a",
   "metadata": {},
   "outputs": [
    {
     "name": "stdin",
     "output_type": "stream",
     "text": [
      "Please enter the first number:  100\n",
      "Please enter the second number:  400\n"
     ]
    },
    {
     "name": "stdout",
     "output_type": "stream",
     "text": [
      "<class 'int'> <class 'int'> <class 'int'>\n",
      "100 400 500\n"
     ]
    }
   ],
   "source": [
    "num1 = int(input(\"Please enter the first number: \"))\n",
    "num2 = int(input(\"Please enter the second number: \"))\n",
    "total = num1 + num2    # algebraic addition operation\n",
    "print (type(num1), type(num2), type(total))\n",
    "print (num1, num2, total)"
   ]
  },
  {
   "cell_type": "code",
   "execution_count": 17,
   "id": "6e265806-c543-490a-95e7-2825531c8533",
   "metadata": {},
   "outputs": [
    {
     "name": "stdout",
     "output_type": "stream",
     "text": [
      "So 100 + 400 = 500\n",
      "So 100 + 400 = 500\n",
      "So 100 + 400 = 500\n",
      "So 100 + 400 = 500\n",
      "So 100 + 400 = 500\n",
      "So 100 + 400 = 500\n",
      "So 100 + 400 = 500\n",
      "So 100 + 400 = 500\n",
      "So 100 + 400 = 500\n",
      "So 100 + 400.000000 = 500\n",
      "So 100 +     400.00 = 500\n"
     ]
    }
   ],
   "source": [
    "print (\"So\", num1, \"+\", num2, \"=\", total)\n",
    "print (\"So \" + str(num1) + \" + \" + str(num2) + \" = \" + str(total))\n",
    "print (\"So {} + {} = {}\".format(num1, num2, total))    # {} => variable place holder\n",
    "print (\"So {0} + {1} = {2}\".format(num1, num2, total))    # {} => indexed variable place holder\n",
    "print (\"So {2} + {1} = {0}\".format(total, num2, num1))    # {} => indexed variable place holder\n",
    "print (\"So {fn} + {sn} = {re}\".format(fn = num1, sn = num2, re = total))  # {} => labelled variable place holder\n",
    "print (\"So {fn} + {sn} = {re}\".format(fn = num1, re = total, sn = num2))  # {} => labelled variable place holder\n",
    "print (f\"So {num1} + {num2} = {total}\")    # smart formatting\n",
    "print (\"So %d + %d = %d\"%(num1, num2, total))\n",
    "print (\"So %d + %f = %d\"%(num1, num2, total))\n",
    "print (\"So %d + %10.2f = %d\"%(num1, num2, total))"
   ]
  },
  {
   "cell_type": "markdown",
   "id": "12655993-2902-4690-bd9e-2fa14237f49d",
   "metadata": {},
   "source": [
    "## **Dynamic Variable Types**"
   ]
  },
  {
   "cell_type": "code",
   "execution_count": 20,
   "id": "1aa62702-16d3-4eb2-9575-2d18f4b6ef5a",
   "metadata": {},
   "outputs": [
    {
     "name": "stdout",
     "output_type": "stream",
     "text": [
      "100 <class 'int'> 140710248370056\n",
      "100.5 <class 'float'> 1320965736656\n",
      "Python <class 'str'> 140710247105448\n",
      "P <class 'str'> 140710248411976\n",
      "Python <class 'str'> 140710247105448\n",
      "P <class 'str'> 140710248411976\n",
      "True <class 'bool'> 140710246894144\n",
      "False <class 'bool'> 140710246894176\n"
     ]
    }
   ],
   "source": [
    "var1 = 100; print (var1, type(var1), id(var1))\n",
    "var1 = 100.5; print (var1, type(var1), id(var1))\n",
    "var1 = \"Python\"; print (var1, type(var1), id(var1))\n",
    "var1 = \"P\"; print (var1, type(var1), id(var1))\n",
    "var1 = 'Python'; print (var1, type(var1), id(var1))\n",
    "var1 = 'P'; print (var1, type(var1), id(var1))\n",
    "var1 = True; print (var1, type(var1), id(var1))\n",
    "var1 = False; print (var1, type(var1), id(var1))"
   ]
  },
  {
   "cell_type": "markdown",
   "id": "d629009f-44ec-4c90-bb32-cc4d6ba3e2c5",
   "metadata": {},
   "source": [
    "## **Python Operators**"
   ]
  },
  {
   "cell_type": "code",
   "execution_count": null,
   "id": "041e2176-5710-404f-a4ed-492362fa8b2d",
   "metadata": {},
   "outputs": [],
   "source": [
    "# Arithmetic Operators: + - * / // ** %\n",
    "# Conditional Operators: > >= < <= != ==\n",
    "# Logical Operators: and or not\n",
    "# Assignment Operator: = \n",
    "# Special Assignment Operators: += -= *= /= //= **= %="
   ]
  },
  {
   "cell_type": "code",
   "execution_count": 21,
   "id": "0a0ef039-0a69-45d6-bdaf-dcca123fb7ea",
   "metadata": {},
   "outputs": [
    {
     "name": "stdout",
     "output_type": "stream",
     "text": [
      "140\n",
      "60\n",
      "4000\n",
      "2.5\n",
      "2\n",
      "1000000\n",
      "20\n"
     ]
    }
   ],
   "source": [
    "print (100 + 40)    # addition operation\n",
    "print (100 - 40)    # subtraction operation\n",
    "print (100 * 40)    # multiplication operation\n",
    "print (100 / 40)    # float division operation\n",
    "print (100 // 40)   # integer division operation\n",
    "print (100 ** 3)    # exponentiation operation\n",
    "print (100 % 40)    # modulus/remainder operation"
   ]
  },
  {
   "cell_type": "code",
   "execution_count": 22,
   "id": "5cbcc837-d2f8-4941-8c69-30f5eb1b6395",
   "metadata": {},
   "outputs": [
    {
     "name": "stdout",
     "output_type": "stream",
     "text": [
      "True True False False True False\n"
     ]
    }
   ],
   "source": [
    "print (100 > 40, 100 >= 40, 100 < 40, 100 <= 40, 100 != 40, 100 == 40)"
   ]
  },
  {
   "cell_type": "code",
   "execution_count": 23,
   "id": "e55bd2a3-8ac2-4bac-b5dc-6b55bd014285",
   "metadata": {},
   "outputs": [
    {
     "name": "stdout",
     "output_type": "stream",
     "text": [
      "False False False True\n",
      "False True True True\n",
      "True False\n"
     ]
    }
   ],
   "source": [
    "print (False and False, False and True, True and False, True and True)\n",
    "print (False or False, False or True, True or False, True or True)\n",
    "print (not False, not True)"
   ]
  },
  {
   "cell_type": "code",
   "execution_count": 24,
   "id": "921cc34d-a075-4d55-a3c7-8594a687329c",
   "metadata": {},
   "outputs": [
    {
     "name": "stdout",
     "output_type": "stream",
     "text": [
      "100\n",
      "200\n",
      "150\n",
      "450\n"
     ]
    }
   ],
   "source": [
    "var1 = 100\n",
    "print (var1)\n",
    "var1 += 100\n",
    "print (var1)\n",
    "var1 -= 50\n",
    "print (var1)\n",
    "var1 *= 3\n",
    "print (var1)"
   ]
  },
  {
   "cell_type": "code",
   "execution_count": 26,
   "id": "f3574485-7000-4dbb-b38a-b82d1ded496b",
   "metadata": {},
   "outputs": [
    {
     "name": "stdout",
     "output_type": "stream",
     "text": [
      "100 Even\n",
      "101 Odd\n"
     ]
    }
   ],
   "source": [
    "# Operators: Unary, Binary, Ternary\n",
    "# Unary Operators (Require only one operand): +100 -300\n",
    "# Binary Operators (Require only two operands): 700 + 100    900 - 300\n",
    "# Ternary Operator (Requires only three operands)\n",
    "num1 = 100;\n",
    "result = \"Even\" if (num1 % 2 == 0) else \"Odd\"\n",
    "print (num1, result)\n",
    "\n",
    "num1 = 101\n",
    "result = \"Even\" if (num1 % 2 == 0) else \"Odd\"\n",
    "print (num1, result)"
   ]
  },
  {
   "cell_type": "markdown",
   "id": "86f99a9f-94fa-437e-99ca-82341a5dfbac",
   "metadata": {},
   "source": [
    "## **ASCII Codes and Characters**"
   ]
  },
  {
   "cell_type": "code",
   "execution_count": null,
   "id": "51844390-f593-466a-a7ff-a7de9f2bd740",
   "metadata": {},
   "outputs": [],
   "source": [
    "# ASCII (American Standard Code for Information Interchange) Codes\n",
    "# A => 65, B => 66, Z => 90\n",
    "# a => 97, b => 98, z => 122\n",
    "# 0 => 48, 1 => 49, 9 => 57\n",
    "# Space Bar/Blank => 32, Enter => 13, Esc => 27, Back Space => 9, Tab => 8\n",
    "# ASCII Code is 8 bits code ranging from 0 to 255\n",
    "# It can be divided into two categories:\n",
    "# 1. Normal ASCII Codes (0 to 127) - Printable\n",
    "# 2. Extended ASCII Codes (128 to 255) - Non-Printable"
   ]
  },
  {
   "cell_type": "code",
   "execution_count": 44,
   "id": "d1c9df01-d696-4fa5-ae21-c6dcc1c88cc7",
   "metadata": {},
   "outputs": [
    {
     "name": "stdout",
     "output_type": "stream",
     "text": [
      "65 97 90 122\n",
      "A a Z z\n"
     ]
    }
   ],
   "source": [
    "print (ord('A'), ord('a'), ord('Z'), ord('z'))  # returns characters to ASCII Codes\n",
    "print (chr(65), chr(97), chr(90), chr(122))     # returns ASCII Codes to characters"
   ]
  },
  {
   "cell_type": "markdown",
   "id": "3422a6e5-96a9-4e09-b957-030aed4a99ea",
   "metadata": {},
   "source": [
    "## **Conditional Statements**"
   ]
  },
  {
   "cell_type": "code",
   "execution_count": 53,
   "id": "bb5f3328-1ffe-43e0-93db-8f8cc9aed2d5",
   "metadata": {},
   "outputs": [
    {
     "name": "stdin",
     "output_type": "stream",
     "text": [
      "Please enter the first integer:  300\n",
      "Please enter the second integer:  500\n",
      "Please enter the third integer:  100\n"
     ]
    },
    {
     "name": "stdout",
     "output_type": "stream",
     "text": [
      "The second number is the maximum number...\n",
      "So the maximum number is 500\n",
      "End of the program...\n"
     ]
    }
   ],
   "source": [
    "# Take three numbers from the user as input and find the maximum of these numbers\n",
    "num1 = int(input(\"Please enter the first integer: \"))\n",
    "num2 = int(input(\"Please enter the second integer: \"))\n",
    "num3 = int(input(\"Please enter the third integer: \"))\n",
    "if (num1 > num2):\n",
    "    if (num1 > num3):\n",
    "        print (\"The first number is the maximum number...\")\n",
    "        print (\"So the maximum number is\", num1)\n",
    "    else:\n",
    "        print (\"The third number is the maximum number...\")\n",
    "        print (\"So the maximum number is\", num3)\n",
    "elif (num2 > num3):\n",
    "    print (\"The second number is the maximum number...\")\n",
    "    print (\"So the maximum number is\", num2)\n",
    "else:\n",
    "    print (\"The third number is the maximum number...\")\n",
    "    print (\"So the maximum number is\", num3)\n",
    "print (\"End of the program...\")"
   ]
  },
  {
   "cell_type": "code",
   "execution_count": 54,
   "id": "bd6eefff-e3db-417f-b37a-0ae0f472653d",
   "metadata": {},
   "outputs": [
    {
     "name": "stdin",
     "output_type": "stream",
     "text": [
      "Please enter the first integer:  300\n",
      "Please enter the second integer:  500\n",
      "Please enter the third integer:  100\n"
     ]
    },
    {
     "name": "stdout",
     "output_type": "stream",
     "text": [
      "The second number is the maximum number...\n",
      "So the maximum number is 500\n",
      "End of the program...\n"
     ]
    }
   ],
   "source": [
    "# Take three numbers from the user as input and find the maximum of these numbers\n",
    "num1 = int(input(\"Please enter the first integer: \"))\n",
    "num2 = int(input(\"Please enter the second integer: \"))\n",
    "num3 = int(input(\"Please enter the third integer: \"))\n",
    "if (num1 > num2 and num1 > num3):\n",
    "    print (\"The first number is the maximum number...\")\n",
    "    print (\"So the maximum number is\", num1)\n",
    "elif (num2 > num3):\n",
    "    print (\"The second number is the maximum number...\")\n",
    "    print (\"So the maximum number is\", num2)\n",
    "else:\n",
    "    print (\"The third number is the maximum number...\")\n",
    "    print (\"So the maximum number is\", num3)\n",
    "print (\"End of the program...\")"
   ]
  },
  {
   "cell_type": "markdown",
   "id": "b7989fcc-4c00-4895-926b-c038008bc003",
   "metadata": {},
   "source": [
    "## **Dealing with 'print' statement**"
   ]
  },
  {
   "cell_type": "code",
   "execution_count": 33,
   "id": "84d06f22-beba-4903-8826-d26661d494a7",
   "metadata": {},
   "outputs": [
    {
     "name": "stdout",
     "output_type": "stream",
     "text": [
      "Hello Hello Hello \n",
      "Welcome Welcome Welcome Welcome Welcome Welcome Welcome Welcome \n",
      "Banana\n"
     ]
    }
   ],
   "source": [
    "print (\"Hello \" * 3)\n",
    "print (\"Welcome \" * 8)\n",
    "print (\"Ba\" + \"na\" * 2)"
   ]
  },
  {
   "cell_type": "code",
   "execution_count": 43,
   "id": "886503ee-ca39-40ee-915d-6cd78df2c9fd",
   "metadata": {},
   "outputs": [
    {
     "name": "stdout",
     "output_type": "stream",
     "text": [
      "Welcome to all\n",
      "Good bye\n"
     ]
    }
   ],
   "source": [
    "print (\"Welcome\", \"to all\")\n",
    "print (\"Good bye\")"
   ]
  },
  {
   "cell_type": "code",
   "execution_count": 41,
   "id": "2328a482-85fc-47d9-b799-bb1cb3902071",
   "metadata": {},
   "outputs": [
    {
     "name": "stdout",
     "output_type": "stream",
     "text": [
      "Welcome - to all***Good bye\n"
     ]
    }
   ],
   "source": [
    "print (\"Welcome\", \"to all\", sep = \" - \", end = \"***\")\n",
    "print (\"Good bye\")"
   ]
  },
  {
   "cell_type": "code",
   "execution_count": 42,
   "id": "5ec13cde",
   "metadata": {},
   "outputs": [
    {
     "name": "stdout",
     "output_type": "stream",
     "text": [
      "Welcome; to all, Good bye\n"
     ]
    }
   ],
   "source": [
    "print (\"Welcome\", \"to all\", sep = \"; \", end = \", \")\n",
    "print (\"Good bye\")"
   ]
  },
  {
   "cell_type": "code",
   "execution_count": 38,
   "id": "c7ef9f51-d779-411b-b909-70a6c244a760",
   "metadata": {},
   "outputs": [
    {
     "name": "stdout",
     "output_type": "stream",
     "text": [
      "Help on built-in function print in module builtins:\n",
      "\n",
      "print(*args, sep=' ', end='\\n', file=None, flush=False)\n",
      "    Prints the values to a stream, or to sys.stdout by default.\n",
      "    \n",
      "    sep\n",
      "      string inserted between values, default a space.\n",
      "    end\n",
      "      string appended after the last value, default a newline.\n",
      "    file\n",
      "      a file-like object (stream); defaults to the current sys.stdout.\n",
      "    flush\n",
      "      whether to forcibly flush the stream.\n",
      "\n"
     ]
    }
   ],
   "source": [
    "help (print)   # ... ellipsis"
   ]
  },
  {
   "cell_type": "markdown",
   "id": "9fad5f2b-ed00-40ed-8b7b-f96a9d3f006e",
   "metadata": {},
   "source": [
    "## **Day-2**"
   ]
  },
  {
   "cell_type": "markdown",
   "id": "7a7c9604-8ca5-4119-94ac-f753d617cdc3",
   "metadata": {},
   "source": [
    "## **Python Loops**"
   ]
  },
  {
   "cell_type": "code",
   "execution_count": 7,
   "id": "85024cca-2cb2-470e-b070-3fa74d35b1ff",
   "metadata": {},
   "outputs": [
    {
     "name": "stdout",
     "output_type": "stream",
     "text": [
      "[0, 1, 2, 3, 4, 5, 6, 7, 8, 9, 10, 11, 12, 13, 14]\n",
      "i = 0\n",
      "i = 1\n",
      "i = 2\n",
      "i = 3\n",
      "i = 4\n",
      "i = 5\n",
      "i = 6\n",
      "i = 7\n",
      "i = 8\n",
      "i = 9\n",
      "i = 10\n",
      "i = 11\n",
      "i = 12\n",
      "i = 13\n",
      "i = 14\n",
      "End of the program...\n"
     ]
    }
   ],
   "source": [
    "var1 = list(range(15))\n",
    "print (var1)\n",
    "for i in range(15):\n",
    "    print (f\"i = {i}\")\n",
    "\n",
    "print (\"End of the program...\")"
   ]
  },
  {
   "cell_type": "code",
   "execution_count": 9,
   "id": "217d9957-67d1-4ffb-9247-f4e741fa1cd0",
   "metadata": {},
   "outputs": [
    {
     "name": "stdout",
     "output_type": "stream",
     "text": [
      "i = 0\n",
      "i = 1\n",
      "i = 2\n",
      "i = 3\n",
      "i = 4\n",
      "i = 5\n",
      "i = 6\n",
      "i = 7\n",
      "End of the program...\n"
     ]
    }
   ],
   "source": [
    "for i in range(0, 8, 1):\n",
    "    print (f\"i = {i}\")\n",
    "\n",
    "print (\"End of the program...\")"
   ]
  },
  {
   "cell_type": "code",
   "execution_count": 12,
   "id": "661ce84a-5030-43fb-8351-93560e5192b6",
   "metadata": {},
   "outputs": [
    {
     "name": "stdout",
     "output_type": "stream",
     "text": [
      "i = 2\n",
      "i = 4\n",
      "i = 6\n",
      "i = 8\n",
      "End of the program...\n"
     ]
    }
   ],
   "source": [
    "for i in range(2, 9, 2):\n",
    "    print (f\"i = {i}\")\n",
    "\n",
    "print (\"End of the program...\")"
   ]
  },
  {
   "cell_type": "code",
   "execution_count": 17,
   "id": "f49360f4-436c-40b3-bd77-44ed48ea4b57",
   "metadata": {},
   "outputs": [
    {
     "name": "stdout",
     "output_type": "stream",
     "text": [
      "i = 8\n",
      "i = 7\n",
      "i = 6\n",
      "i = 5\n",
      "i = 4\n",
      "i = 3\n",
      "i = 2\n",
      "i = 1\n",
      "i = 0\n",
      "i = -1\n",
      "i = -2\n",
      "i = -3\n",
      "i = -4\n",
      "ELSE block is executing...\n",
      "Looping for 13 number of times...\n",
      "End of the program...\n"
     ]
    }
   ],
   "source": [
    "count = 0\n",
    "for i in range(8, -5, -1):\n",
    "    print (f\"i = {i}\")\n",
    "    count += 1\n",
    "else:\n",
    "    print (\"ELSE block is executing...\")\n",
    "print (f\"Looping for {count} number of times...\")\n",
    "print (\"End of the program...\")"
   ]
  },
  {
   "cell_type": "code",
   "execution_count": 22,
   "id": "ddeeb6d0-ca80-4de2-b13a-2c8d628b707e",
   "metadata": {},
   "outputs": [
    {
     "name": "stdout",
     "output_type": "stream",
     "text": [
      "i = 0\n",
      "i = 1\n",
      "i = 2\n",
      "i = 3\n",
      "i = 4\n",
      "i = 5\n",
      "BREAK statement is executing...\n",
      "Looping for 5 number of times...\n",
      "End of the program...\n"
     ]
    }
   ],
   "source": [
    "count = 0\n",
    "for i in range(0, 8, 1):\n",
    "    print (f\"i = {i}\")\n",
    "    if (i == 5):\n",
    "        print (\"BREAK statement is executing...\")\n",
    "        break\n",
    "    count += 1\n",
    "else:\n",
    "    print (\"ELSE block is executing...\")\n",
    "print (f\"Looping for {count} number of times...\")\n",
    "print (\"End of the program...\")"
   ]
  },
  {
   "cell_type": "code",
   "execution_count": 24,
   "id": "905173f1-d7df-4370-acb6-0c03c3747643",
   "metadata": {},
   "outputs": [
    {
     "name": "stdin",
     "output_type": "stream",
     "text": [
      "Please enter one integer:  101\n"
     ]
    },
    {
     "name": "stdout",
     "output_type": "stream",
     "text": [
      "101 is a PRIME Number...\n",
      "End of the program...\n"
     ]
    }
   ],
   "source": [
    "# find whether one user given number is PRIME or not\n",
    "num = int(input(\"Please enter one integer: \"))\n",
    "for i in range(2, num):\n",
    "    if (num % i == 0):\n",
    "        print (f\"{num} is NOT a PRIME Number...\")\n",
    "        break\n",
    "else:\n",
    "    print (f\"{num} is a PRIME Number...\")\n",
    "print (\"End of the program...\")"
   ]
  },
  {
   "cell_type": "code",
   "execution_count": 34,
   "id": "96bc8e56-f4b0-484a-9737-0b901722fa5a",
   "metadata": {},
   "outputs": [
    {
     "name": "stdin",
     "output_type": "stream",
     "text": [
      "Please enter one integer:  101\n"
     ]
    },
    {
     "name": "stdout",
     "output_type": "stream",
     "text": [
      "101 is a PRIME Number...\n",
      "End of the program...\n"
     ]
    }
   ],
   "source": [
    "# find whether one user given number is PRIME or not\n",
    "num = int(input(\"Please enter one integer: \"))\n",
    "for i in range(2, num):\n",
    "    if (num % i != 0):\n",
    "        pass    # statement place-holder\n",
    "    else:\n",
    "        print (f\"{num} is NOT a PRIME Number...\")\n",
    "        break\n",
    "else:\n",
    "    print (f\"{num} is a PRIME Number...\")\n",
    "print (\"End of the program...\")"
   ]
  },
  {
   "cell_type": "code",
   "execution_count": 28,
   "id": "7754862d-618a-4109-ae8f-4af36cccfa80",
   "metadata": {},
   "outputs": [
    {
     "name": "stdout",
     "output_type": "stream",
     "text": [
      "Looping with i = 0...\n",
      "Looping with i = 1...\n",
      "Looping with i = 2...\n",
      "Looping with i = 3...\n",
      "Looping with i = 4...\n",
      "Looping with i = 5...\n",
      "Continue with i = 6...\n",
      "Looping with i = 7...\n",
      "Continue with i = 8...\n",
      "Looping with i = 9...\n",
      "ELSE block is executing...\n",
      "End of the program...\n"
     ]
    }
   ],
   "source": [
    "for i in range(0, 10, 1):\n",
    "    if (i == 6 or i == 8):\n",
    "        print (f\"Continue with i = {i}...\")\n",
    "        continue\n",
    "    print (f\"Looping with i = {i}...\")    \n",
    "else:\n",
    "    print (\"ELSE block is executing...\")\n",
    "print (\"End of the program...\")"
   ]
  },
  {
   "cell_type": "code",
   "execution_count": 32,
   "id": "74b7b33d-14e5-49cc-9293-5d07be56e98a",
   "metadata": {},
   "outputs": [
    {
     "name": "stdout",
     "output_type": "stream",
     "text": [
      "End of the program...\n"
     ]
    }
   ],
   "source": [
    "for i in range(10):\n",
    "    pass    # statement place-holder\n",
    "print (\"End of the program...\")"
   ]
  },
  {
   "cell_type": "code",
   "execution_count": 35,
   "id": "de5e0db5-da2b-49df-b9af-f34e066b8b3c",
   "metadata": {},
   "outputs": [
    {
     "name": "stdout",
     "output_type": "stream",
     "text": [
      "Looping for i = 1...\n",
      "Looping for i = 2...\n",
      "Looping for i = 3...\n",
      "Looping for i = 4...\n",
      "Looping for i = 5...\n",
      "Looping for i = 6...\n",
      "Looping for i = 7...\n",
      "Looping for i = 8...\n",
      "Looping for i = 9...\n",
      "Looping for i = 10...\n",
      "ELSE block is executing...\n",
      "Loop got executed for 11 number of time...\n",
      "End of the program...\n"
     ]
    }
   ],
   "source": [
    "i = 1\n",
    "count = 1\n",
    "while (i <= 10):\n",
    "    print (f\"Looping for i = {i}...\")\n",
    "    count += 1\n",
    "    i += 1\n",
    "else:\n",
    "    print (\"ELSE block is executing...\")\n",
    "print (f\"Loop got executed for {count} number of time...\")\n",
    "print (\"End of the program...\")"
   ]
  },
  {
   "cell_type": "code",
   "execution_count": 38,
   "id": "1fce01c9-e2b1-4be9-8b8e-600b2715c3d6",
   "metadata": {},
   "outputs": [
    {
     "name": "stdout",
     "output_type": "stream",
     "text": [
      "Visit Doctor...\n",
      "Good morning...\n",
      "Day number: 1 and medicine number: 1...\n",
      "Day number: 1 and medicine number: 2...\n",
      "Day number: 1 and medicine number: 3...\n",
      "Good night...\n",
      "-----------------------------------------\n",
      "Good morning...\n",
      "Day number: 2 and medicine number: 1...\n",
      "Day number: 2 and medicine number: 2...\n",
      "Day number: 2 and medicine number: 3...\n",
      "Good night...\n",
      "-----------------------------------------\n",
      "Good morning...\n",
      "Day number: 3 and medicine number: 1...\n",
      "Day number: 3 and medicine number: 2...\n",
      "Day number: 3 and medicine number: 3...\n",
      "Good night...\n",
      "-----------------------------------------\n",
      "Good morning...\n",
      "Day number: 4 and medicine number: 1...\n",
      "Day number: 4 and medicine number: 2...\n",
      "Day number: 4 and medicine number: 3...\n",
      "Good night...\n",
      "-----------------------------------------\n",
      "Good morning...\n",
      "Day number: 5 and medicine number: 1...\n",
      "Day number: 5 and medicine number: 2...\n",
      "Day number: 5 and medicine number: 3...\n",
      "Good night...\n",
      "-----------------------------------------\n",
      "Thanks to Doctor...\n",
      "End of the story...\n"
     ]
    }
   ],
   "source": [
    "# nested loops\n",
    "print (\"Visit Doctor...\")    # 1 time\n",
    "for day in range(1, 6):\n",
    "    print (\"Good morning...\")    # 5 times\n",
    "    for medi in range(1, 4):\n",
    "        print (f\"Day number: {day} and medicine number: {medi}...\")    # 15 times\n",
    "    print (\"Good night...\")    # 5 times\n",
    "    print (\"-----------------------------------------\")    # 5 times\n",
    "else:\n",
    "    print (\"Thanks to Doctor...\")    # 1 time\n",
    "print (\"End of the story...\")    # 1 time"
   ]
  },
  {
   "cell_type": "code",
   "execution_count": 41,
   "id": "273fed37-854e-4c77-9862-2e8dbe5abc7f",
   "metadata": {},
   "outputs": [
    {
     "name": "stdout",
     "output_type": "stream",
     "text": [
      "Visit Doctor...\n",
      "Good morning...\n",
      "Day number: 1 and medicine number: 1...\n",
      "Day number: 1 and medicine number: 2...\n",
      "Day number: 1 and medicine number: 3...\n",
      "Good night...\n",
      "-----------------------------------------\n",
      "Good morning...\n",
      "Day number: 2 and medicine number: 1...\n",
      "Day number: 2 and medicine number: 2...\n",
      "Day number: 2 and medicine number: 3...\n",
      "Good night...\n",
      "-----------------------------------------\n",
      "Good morning...\n",
      "Day number: 3 and medicine number: 1...\n",
      "Day number: 3 and medicine number: 2...\n",
      "Day number: 3 and medicine number: 3...\n",
      "Good night...\n",
      "-----------------------------------------\n",
      "Good morning...\n",
      "Day number: 4 and medicine number: 1...\n",
      "Day number: 4 and medicine number: 2...\n",
      "Day number: 4 and medicine number: 3...\n",
      "Good night...\n",
      "-----------------------------------------\n",
      "Good morning...\n",
      "Day number: 5 and medicine number: 1...\n",
      "Day number: 5 and medicine number: 2...\n",
      "Day number: 5 and medicine number: 3...\n",
      "Good night...\n",
      "-----------------------------------------\n",
      "Thanks to Doctor...\n",
      "Total number of medicine consumed is 15...\n",
      "End of the story...\n"
     ]
    }
   ],
   "source": [
    "# nested loops\n",
    "print (\"Visit Doctor...\")    # 1 time\n",
    "day = 1\n",
    "medicount = 0\n",
    "while (day < 6):\n",
    "    print (\"Good morning...\")    # 5 times\n",
    "    medi = 1\n",
    "    while (medi < 4):\n",
    "        print (f\"Day number: {day} and medicine number: {medi}...\")    # 15 times\n",
    "        medi += 1\n",
    "        medicount += 1\n",
    "    print (\"Good night...\")    # 5 times\n",
    "    print (\"-----------------------------------------\")    # 5 times\n",
    "    day += 1\n",
    "else:\n",
    "    print (\"Thanks to Doctor...\")    # 1 time\n",
    "    print (f\"Total number of medicine consumed is {medicount}...\")\n",
    "print (\"End of the story...\")    # 1 time"
   ]
  },
  {
   "cell_type": "code",
   "execution_count": 44,
   "id": "39eca36a-2c66-40d2-b924-33ab72561739",
   "metadata": {},
   "outputs": [
    {
     "name": "stdout",
     "output_type": "stream",
     "text": [
      "Hello Hello Hello Hello Hello \n",
      "banana\n"
     ]
    }
   ],
   "source": [
    "print (\"Hello \" * 5)\n",
    "print (\"ba\" + \"na\" * 2)"
   ]
  },
  {
   "cell_type": "code",
   "execution_count": null,
   "id": "d372588d-c1e6-4d3c-a4a8-415573603b18",
   "metadata": {},
   "outputs": [],
   "source": [
    "PATTERN - 1\n",
    "n = 6 (User input)\n",
    "                  i    .    *\n",
    "                ---------------\n",
    ".....*            1    5    1       (i, n)\n",
    "....***           2    4    3  . => (n - i)\n",
    "...*****          3    3    5\n",
    "..*******         4    2    7  * => (2 * i - 1)\n",
    ".*********        5    1    9\n",
    "***********       6    0   11\n",
    "                ---------------\n",
    "                 Tracing Table"
   ]
  },
  {
   "cell_type": "code",
   "execution_count": 46,
   "id": "793b8ec8-b99f-4580-a867-7b4526796cd3",
   "metadata": {},
   "outputs": [
    {
     "name": "stdin",
     "output_type": "stream",
     "text": [
      "Please enter the number of layers: 6\n"
     ]
    },
    {
     "name": "stdout",
     "output_type": "stream",
     "text": [
      ".....*\n",
      "....***\n",
      "...*****\n",
      "..*******\n",
      ".*********\n",
      "***********\n",
      "End of the pattern printing...\n"
     ]
    }
   ],
   "source": [
    "n = int(input(\"Please enter the number of layers:\"))\n",
    "for i in range(1, n + 1):\n",
    "    print (\".\" * (n - i) + \"*\" * (2 * i - 1))\n",
    "print (\"End of the pattern printing...\")"
   ]
  },
  {
   "cell_type": "code",
   "execution_count": null,
   "id": "dba83d0e-c05d-4070-aaad-6dac9f29ca59",
   "metadata": {},
   "outputs": [],
   "source": [
    "PATTERN - 2\n",
    "n = 6 (User input)\n",
    "                  i    .    *\n",
    "                ---------------\n",
    "***********       1    0   11       (i, n)\n",
    ".*********        2    1    9  . => (i - 1)\n",
    "..*******         3    2    7\n",
    "...*****          4    3    5  * => (2 * (n - i) + 1)\n",
    "....***           5    4    3\n",
    ".....*            6    5    1\n",
    "                ---------------\n",
    "                 Tracing Table"
   ]
  },
  {
   "cell_type": "code",
   "execution_count": 48,
   "id": "bf6db632-af0e-42ae-b942-32f955fac490",
   "metadata": {},
   "outputs": [
    {
     "name": "stdin",
     "output_type": "stream",
     "text": [
      "Please enter the number of layers: 6\n"
     ]
    },
    {
     "name": "stdout",
     "output_type": "stream",
     "text": [
      "***********\n",
      ".*********\n",
      "..*******\n",
      "...*****\n",
      "....***\n",
      ".....*\n",
      "End of the pattern printing...\n"
     ]
    }
   ],
   "source": [
    "n = int(input(\"Please enter the number of layers:\"))\n",
    "for i in range(1, n + 1):\n",
    "    print (\".\" * (i - 1) + \"*\" * (2 * (n - i) + 1))\n",
    "print (\"End of the pattern printing...\")"
   ]
  },
  {
   "cell_type": "markdown",
   "id": "46af5428-d062-415b-9441-1148a2aaa2d4",
   "metadata": {},
   "source": [
    " ## **Python Inbuilt Collections**"
   ]
  },
  {
   "cell_type": "code",
   "execution_count": 56,
   "id": "0fc9c787-92f8-4548-bb6a-bccedce3e2e6",
   "metadata": {},
   "outputs": [
    {
     "name": "stdout",
     "output_type": "stream",
     "text": [
      "[100, 23.45, 'Python', True, False, 'a', 'Python', True] 8 <class 'list'> 1767198940864\n",
      "(100, 23.45, 'Python', True, False, 'a', 'Python', True) 8 <class 'tuple'> 1767197592768\n",
      "{False, True, 'Python', 'a', 100, 23.45} 6 <class 'set'> 1767194387040\n",
      "frozenset({False, True, 'Python', 'a', 100, 23.45}) 6 <class 'frozenset'> 1767197372288\n",
      "{'Name': 'John', 'job': 'Developer', 'Country': 'UK', 'Age': 28, 'Married': True} 5 <class 'dict'> 1767197995200\n"
     ]
    }
   ],
   "source": [
    "var1 = [100, 23.45, \"Python\", True, False, \"a\", \"Python\", True]  # list is mutable \n",
    "print (var1, len(var1), type(var1), id(var1))\n",
    "var1 = (100, 23.45, \"Python\", True, False, \"a\", \"Python\", True)  # tuple is immutable \n",
    "print (var1, len(var1), type(var1), id(var1))\n",
    "var1 = {100, 23.45, \"Python\", True, False, \"a\", 23.45, \"Python\"}  # set is mutable (unordered and unique)\n",
    "print (var1, len(var1), type(var1), id(var1))\n",
    "var1 = frozenset({100, 23.45, \"Python\", True, False, \"a\", 23.45, \"Python\"})  # frozen set is immutable (unordered and unique)\n",
    "print (var1, len(var1), type(var1), id(var1))\n",
    "var1 = {\"Name\":\"John\", \"job\":\"Developer\", \"Country\":\"UK\", \"Age\":28, \"Married\":True}  # dictionary is mutable \n",
    "print (var1, len(var1), type(var1), id(var1))"
   ]
  },
  {
   "cell_type": "markdown",
   "id": "91858929-a3cd-4836-8c35-9b80ce1ab5f8",
   "metadata": {},
   "source": [
    "## **Day-3**"
   ]
  },
  {
   "cell_type": "markdown",
   "id": "cd36af32-c76c-445f-8787-dcdd4f90202f",
   "metadata": {},
   "source": [
    "## **User Defined Function (UDF)**"
   ]
  },
  {
   "cell_type": "code",
   "execution_count": 62,
   "id": "3b7ca5a4-98b5-4aeb-962a-3b9a3a9a478e",
   "metadata": {},
   "outputs": [
    {
     "name": "stdout",
     "output_type": "stream",
     "text": [
      "Hello Hello Hello \n",
      "Hello Hello Hello \n",
      "Hello Hello Hello \n",
      "Hello Hello Hello \n",
      "<class 'NoneType'>\n",
      "<class 'function'>\n"
     ]
    }
   ],
   "source": [
    "def funct1():\n",
    "    print (\"Hello \" * 3)\n",
    "    \n",
    "funct1()\n",
    "funct1()\n",
    "funct1()\n",
    "print (type(funct1()))\n",
    "print (type(funct1))"
   ]
  },
  {
   "cell_type": "code",
   "execution_count": 63,
   "id": "54e04662-3a56-4f9a-9256-43d87124a9ac",
   "metadata": {},
   "outputs": [
    {
     "name": "stdout",
     "output_type": "stream",
     "text": [
      "Hello Hello Hello Hello Hello Hello Hello Hello \n",
      "Welcome Welcome Welcome Welcome Welcome \n",
      "Bye Bye Bye \n"
     ]
    }
   ],
   "source": [
    "def funct2(msg, times):    # positional parameters\n",
    "    print (msg * times)\n",
    "    \n",
    "funct2(\"Hello \", 8)    # positional arguments\n",
    "funct2(\"Welcome \", 5)\n",
    "funct2(\"Bye \", 3)"
   ]
  },
  {
   "cell_type": "code",
   "execution_count": 64,
   "id": "312ca730-88a7-4743-99f1-d9087e1d56ba",
   "metadata": {},
   "outputs": [
    {
     "name": "stdout",
     "output_type": "stream",
     "text": [
      "Hello Hello Hello Hello Hello Hello Hello Hello \n",
      "Welcome Welcome Welcome Welcome Welcome \n",
      "Bye Bye Bye \n"
     ]
    }
   ],
   "source": [
    "def funct3(msg, times):    # positional parameters\n",
    "    return msg * times\n",
    "    \n",
    "print(funct3(\"Hello \", 8))    # positional arguments\n",
    "print(funct3(\"Welcome \", 5))\n",
    "result = funct3(\"Bye \", 3)\n",
    "print (result)"
   ]
  },
  {
   "cell_type": "code",
   "execution_count": 76,
   "id": "c7d97211-3b01-4f9f-b158-41f314d3a877",
   "metadata": {},
   "outputs": [
    {
     "name": "stdout",
     "output_type": "stream",
     "text": [
      "par1 = 100, par2 = 200, par3 = 300\n",
      "par1 = 100, par2 = 200, par3 = 333\n",
      "par1 = 100, par2 = 222, par3 = 333\n",
      "par1 = 111, par2 = 222, par3 = 333\n",
      "\n",
      "par1 = 100, par2 = 222, par3 = 300\n",
      "par1 = 111, par2 = 200, par3 = 333\n",
      "par1 = 100, par2 = 222, par3 = 300\n"
     ]
    }
   ],
   "source": [
    "# function with default arguments\n",
    "def funct4(par1 = 111, par2 = 222, par3 = 333):\n",
    "    print (f\"par1 = {par1}, par2 = {par2}, par3 = {par3}\")\n",
    "\n",
    "funct4(100, 200, 300)\n",
    "funct4(100, 200)\n",
    "funct4(100)\n",
    "funct4()\n",
    "print()\n",
    "funct4(par1 = 100, par3 = 300)\n",
    "funct4(par2 = 200)\n",
    "funct4(par3 = 300, par1 = 100)"
   ]
  },
  {
   "cell_type": "code",
   "execution_count": 79,
   "id": "de9e2687-7c79-4996-85d4-500296367094",
   "metadata": {},
   "outputs": [
    {
     "name": "stdout",
     "output_type": "stream",
     "text": [
      "300\n",
      "200\n"
     ]
    }
   ],
   "source": [
    "def funct5(par1, par2 = None):\n",
    "    # if (par2 is None):\n",
    "    if (par2 == None):\n",
    "        return 2 * par1\n",
    "    else:\n",
    "        return par1 + par2\n",
    "    \n",
    "print (funct5(100, 200))\n",
    "print (funct5(100))"
   ]
  },
  {
   "cell_type": "code",
   "execution_count": 85,
   "id": "51b6bf6c-3084-43a6-a5e7-f9efa8d52645",
   "metadata": {},
   "outputs": [
    {
     "name": "stdout",
     "output_type": "stream",
     "text": [
      "Total = 140, difference = 60, product = 4000, Quotient = 2.5 and Remainder = 20\n",
      "(140, 60, 4000, 2.5, 20) <class 'tuple'> 5 1767237810224\n",
      "Total = 140, difference = 60, product = 4000, Quotient = 2.5 and Remainder = 20\n"
     ]
    }
   ],
   "source": [
    "def funct6(num1, num2):\n",
    "    total = num1 + num2\n",
    "    diff = num1 - num2\n",
    "    prod = num1 * num2\n",
    "    quot = num1 / num2\n",
    "    rem = num1 % num2\n",
    "    return total, diff, prod, quot, rem\n",
    "\n",
    "tt, dd, pp, qq, rr = funct6(100, 40)\n",
    "print(f\"Total = {tt}, difference = {dd}, product = {pp}, Quotient = {qq} and Remainder = {rr}\")\n",
    "res = funct6(100, 40)\n",
    "print (res, type(res), len(res), id(res))\n",
    "print(f\"Total = {res[0]}, difference = {res[1]}, product = {res[2]}, Quotient = {res[3]} and Remainder = {res[4]}\")"
   ]
  },
  {
   "cell_type": "code",
   "execution_count": 86,
   "id": "ee3601a9-cf68-47fa-a9af-2fdefd08b18e",
   "metadata": {},
   "outputs": [
    {
     "name": "stdout",
     "output_type": "stream",
     "text": [
      "('Amitava', 'Male', 'Developer') <class 'tuple'> 3\n",
      "('Amitava', 'Male', 'Developer', 'Pune') <class 'tuple'> 4\n",
      "('Amitava', 'Male', 'Developer', 'Pune', 'Accenture') <class 'tuple'> 5\n",
      "('Amitava', 'Male', 'Developer', 'Pune', 'Accenture', 'Married') <class 'tuple'> 6\n"
     ]
    }
   ],
   "source": [
    "# function with variable number of arguments\n",
    "def funct7(*arg):    # here *arg will define forefully arg as tuple type object\n",
    "    print (arg, type(arg), len(arg))\n",
    "    \n",
    "funct7(\"Amitava\", \"Male\", \"Developer\")\n",
    "funct7(\"Amitava\", \"Male\", \"Developer\", \"Pune\")\n",
    "funct7(\"Amitava\", \"Male\", \"Developer\", \"Pune\", \"Accenture\")\n",
    "funct7(\"Amitava\", \"Male\", \"Developer\", \"Pune\", \"Accenture\", \"Married\")"
   ]
  },
  {
   "cell_type": "code",
   "execution_count": 87,
   "id": "b6b3edf0-c3b3-4c51-82ef-f811a89426d8",
   "metadata": {},
   "outputs": [
    {
     "name": "stdout",
     "output_type": "stream",
     "text": [
      "{'name': 'Amitava', 'gender': 'Male', 'desig': 'Developer'} <class 'dict'> 3\n",
      "{'name': 'Amitava', 'gender': 'Male', 'desig': 'Developer', 'loc': 'Pune'} <class 'dict'> 4\n",
      "{'name': 'Amitava', 'gender': 'Male', 'desig': 'Developer', 'loc': 'Pune', 'comp': 'Accenture'} <class 'dict'> 5\n"
     ]
    }
   ],
   "source": [
    "# function with variable number of arguments\n",
    "def funct8(**kwarg):    # here **kwarg will define forefully kwarg as dictionary type object\n",
    "    print (kwarg, type(kwarg), len(kwarg))\n",
    "    \n",
    "funct8(name = \"Amitava\", gender = \"Male\", desig = \"Developer\")\n",
    "funct8(name = \"Amitava\", gender = \"Male\", desig = \"Developer\", loc = \"Pune\")\n",
    "funct8(name = \"Amitava\", gender = \"Male\", desig = \"Developer\", loc = \"Pune\", comp = \"Accenture\")"
   ]
  },
  {
   "cell_type": "code",
   "execution_count": 88,
   "id": "db97db06-7a8a-4788-bcf1-f9e87d889637",
   "metadata": {},
   "outputs": [
    {
     "name": "stdout",
     "output_type": "stream",
     "text": [
      "('Amitava', 'Male', 'Developer') <class 'tuple'> 3\n",
      "{'loc': 'Pune', 'comp': 'Accenture', 'tech': 'Java'} <class 'dict'> 3\n",
      "\n",
      "('Amitava', 'Male', 'Developer') <class 'tuple'> 3\n",
      "{} <class 'dict'> 0\n",
      "\n",
      "() <class 'tuple'> 0\n",
      "{'loc': 'Pune', 'comp': 'Accenture', 'tech': 'Java'} <class 'dict'> 3\n"
     ]
    }
   ],
   "source": [
    "# function with variable number of arguments\n",
    "def funct9(*arg, **kwarg):\n",
    "    print (arg, type(arg), len(arg))\n",
    "    print (kwarg, type(kwarg), len(kwarg))\n",
    "    \n",
    "funct9(\"Amitava\", \"Male\", \"Developer\", loc = \"Pune\", comp = \"Accenture\", tech = \"Java\")\n",
    "print ()\n",
    "funct9(\"Amitava\", \"Male\", \"Developer\")\n",
    "print ()\n",
    "funct9(loc = \"Pune\", comp = \"Accenture\", tech = \"Java\")"
   ]
  },
  {
   "cell_type": "code",
   "execution_count": 89,
   "id": "c7d78a78-9205-448c-ba7b-95a37cac44bd",
   "metadata": {},
   "outputs": [
    {
     "name": "stdout",
     "output_type": "stream",
     "text": [
      "Executing the loop for i = 1...\n",
      "Executing the loop for i = 2...\n",
      "Executing the loop for i = 3...\n",
      "Executing the loop for i = 4...\n",
      "Executing the loop for i = 5...\n",
      "So the factorial for num = 5 is 120...\n"
     ]
    }
   ],
   "source": [
    "# non-recursive factorial calculation UDF\n",
    "# 5! = 1 * 2 * 3 * 4 * 5 = 5 * 4 * 3 * 2 * 1 = 120 = 5 * 4!\n",
    "def factorial_nr(num):\n",
    "    if (num == 0 or num == 1): return 1\n",
    "    fact = 1\n",
    "    for i in range(1, num + 1):\n",
    "        print (f\"Executing the loop for i = {i}...\")\n",
    "        fact *= i\n",
    "    return fact\n",
    "num = 5\n",
    "result = factorial_nr(num)\n",
    "print (f\"So the factorial for num = {num} is {result}...\")"
   ]
  },
  {
   "cell_type": "code",
   "execution_count": 90,
   "id": "e724773e-30ba-4fb3-9cd2-ed36ed9b1286",
   "metadata": {},
   "outputs": [
    {
     "name": "stdout",
     "output_type": "stream",
     "text": [
      "So the factorial for num = 5 is 120...\n"
     ]
    }
   ],
   "source": [
    "# recursive factorial calculation UDF\n",
    "def factorial_r(num):\n",
    "    if (num == 0 or num == 1): return 1  # base case, for certain inputs, outputs are pre-known to us\n",
    "    return num * factorial_r(num - 1)    # recursive case, where the function will call itself\n",
    "num = 5\n",
    "result = factorial_r(num)\n",
    "print (f\"So the factorial for num = {num} is {result}...\")"
   ]
  },
  {
   "cell_type": "code",
   "execution_count": null,
   "id": "e6f9b4ea-345c-4f8a-a012-c096cc4ce465",
   "metadata": {},
   "outputs": [],
   "source": [
    "5! = 5 * 4!\n",
    "         4 * 3!\n",
    "             3 * 2!\n",
    "                 2 * 1!\n",
    "                     1\n",
    "                 2\n",
    "             6\n",
    "         24\n",
    "     120"
   ]
  },
  {
   "cell_type": "code",
   "execution_count": null,
   "id": "65f07805-9d83-4dca-8e15-cefe9b996419",
   "metadata": {},
   "outputs": [],
   "source": [
    "def calculator(num1, num2, ch):\n",
    "    # if ch == 1 then perform addition and store the result in cal_output\n",
    "    # if ch == 2 then perform subtraction and store the result in cal_output\n",
    "    # if ch == 3 then perform multiplication and store the result in cal_output\n",
    "    # if ch == 4 then perform division and store the result in cal_output\n",
    "\n",
    "result = calculator(100, 20, 3)\n",
    "print (result)"
   ]
  },
  {
   "cell_type": "code",
   "execution_count": 95,
   "id": "77f73007-234c-49c6-a259-3ef0985f66a5",
   "metadata": {},
   "outputs": [
    {
     "name": "stdout",
     "output_type": "stream",
     "text": [
      "2000\n",
      "<class 'function'>\n"
     ]
    }
   ],
   "source": [
    "def calculator(num1, num2, ch):\n",
    "    if (ch == 1): cal_output = num1 + num2\n",
    "    if (ch == 2): cal_output = num1 - num2\n",
    "    if (ch == 3): cal_output = num1 * num2\n",
    "    if (ch == 4): cal_output = num1 / num2\n",
    "    return cal_output\n",
    "\n",
    "result = calculator(100, 20, 3)\n",
    "print (result)\n",
    "print (type(calculator))"
   ]
  },
  {
   "cell_type": "markdown",
   "id": "2d99fe20-201c-41ac-aedf-dd8d50cea847",
   "metadata": {},
   "source": [
    "## **Lambda Function**\n",
    "\n",
    "> In Python programming, a lambda function is a small anonymous function that can have any number of arguments, but can only have one expression. The expression is evaluated and returned as the function result. Lambda functions are commonly used in combination with higher-order functions such as map(), filter(), and reduce().\n",
    "\n",
    "Some of the properties of lambda functions in Python programming include:\n",
    "* **Anonymous:** Lambda functions are anonymous, meaning they do not have a name like regular functions. They are defined using the keyword \"lambda\" followed by the arguments and the expression.\n",
    "* **Single Expression:** A lambda function can only contain a single expression that is evaluated and returned as the function result. This means that it cannot contain multiple statements or control flow structures.\n",
    "* **Concise:** Lambda functions are concise and can be defined in a single line of code. This makes them useful for defining simple functions on-the-fly.\n",
    "* **Immutable:** Lambda functions are immutable, meaning they cannot be modified once defined. This means that you cannot change the behavior of a lambda function after it has been defined.\n",
    "* **Higher-order Functions:** Lambda functions are often used in combination with higher-order functions such as map(), filter(), and reduce(). These functions take other functions as arguments and return new functions as results.\n",
    "* **Memory-efficient:** Lambda functions are memory-efficient since they are defined on-the-fly and do not require a separate function definition. This can be useful when working with large data sets or when memory usage is a concern."
   ]
  },
  {
   "cell_type": "code",
   "execution_count": 94,
   "id": "7882db90-630f-46cf-a9c2-aa54afa5a1b1",
   "metadata": {},
   "outputs": [
    {
     "name": "stdout",
     "output_type": "stream",
     "text": [
      "<class 'function'>\n",
      "100\n",
      "121\n"
     ]
    }
   ],
   "source": [
    "mysquare = lambda num: num * num\n",
    "print (type(mysquare))\n",
    "print (mysquare(10))\n",
    "print (mysquare(11))"
   ]
  },
  {
   "cell_type": "code",
   "execution_count": 96,
   "id": "d2795be1-d1e8-4c34-a743-c41d9eb7dd41",
   "metadata": {},
   "outputs": [
    {
     "name": "stdout",
     "output_type": "stream",
     "text": [
      "<class 'function'>\n",
      "300\n",
      "3000\n"
     ]
    }
   ],
   "source": [
    "myaddition = lambda num1, num2: num1 + num2\n",
    "print (type(myaddition))\n",
    "print (myaddition(100, 200))\n",
    "print (myaddition(1000, 2000))"
   ]
  },
  {
   "cell_type": "code",
   "execution_count": 97,
   "id": "a60a7a7b-4c42-4858-8cf1-e62a0b482c1e",
   "metadata": {},
   "outputs": [
    {
     "name": "stdout",
     "output_type": "stream",
     "text": [
      "120\n",
      "720\n"
     ]
    }
   ],
   "source": [
    "# write a recusive lambda function to calculate the factorial of a given number\n",
    "factorial_cal = lambda num: 1 if (num == 0 or num == 1) else num * factorial_cal(num - 1)\n",
    "print (factorial_cal(5))\n",
    "print (factorial_cal(6))"
   ]
  },
  {
   "cell_type": "markdown",
   "id": "400d2e99-4d09-43e4-b4c7-18016b4d5e9b",
   "metadata": {},
   "source": [
    "## **Importing Modules**"
   ]
  },
  {
   "cell_type": "code",
   "execution_count": 98,
   "id": "439c9388-aad2-4e62-b145-f0cfe19bbbd1",
   "metadata": {},
   "outputs": [],
   "source": [
    "# importing required module\n",
    "import math"
   ]
  },
  {
   "cell_type": "code",
   "execution_count": 100,
   "id": "e1219f39-49e6-4a31-a898-36a6b885c2ab",
   "metadata": {},
   "outputs": [
    {
     "name": "stdout",
     "output_type": "stream",
     "text": [
      "0.0 0.0 2.99822295029797\n",
      "1.0 1.5707963267948966 2.993222846126381\n",
      "2.718281828459045 3.141592653589793 6.283185307179586\n",
      "6.907755278982137 6.907755278982137 2.9999999999999996\n"
     ]
    }
   ],
   "source": [
    "print (math.sin(0), math.asin(0), math.asinh(10))\n",
    "print (math.cos(0), math.acos(0), math.acosh(10))\n",
    "print (math.e, math.pi, math.tau)\n",
    "print (math.log(1000), math.log(1000, math.e), math.log(1000, 10))"
   ]
  },
  {
   "cell_type": "code",
   "execution_count": 101,
   "id": "fb11d0e5-f41d-4280-b79a-affd3d7e5b4d",
   "metadata": {},
   "outputs": [
    {
     "name": "stdout",
     "output_type": "stream",
     "text": [
      "2.9999999999999996 3.0 10.0 10.0\n",
      "28.284271247461902 28.284271247461902\n",
      "20 200\n"
     ]
    }
   ],
   "source": [
    "print (math.log(1000, 10), math.log10(1000), math.log2(1024), math.log(1024, 2))\n",
    "print (math.dist((10, 20), (30, 40)), math.sqrt((10-30)**2+(20-40)**2))\n",
    "print (math.gcd(100, 40), math.lcm(100, 40))"
   ]
  },
  {
   "cell_type": "code",
   "execution_count": null,
   "id": "ed8cfb01-c437-4105-b499-a568b7264386",
   "metadata": {},
   "outputs": [],
   "source": [
    "help(math)"
   ]
  },
  {
   "cell_type": "code",
   "execution_count": 103,
   "id": "4d8c476c-1153-434f-9bf1-7dff971075c6",
   "metadata": {},
   "outputs": [
    {
     "name": "stdout",
     "output_type": "stream",
     "text": [
      "120\n"
     ]
    }
   ],
   "source": [
    "print (math.factorial(5))"
   ]
  },
  {
   "cell_type": "markdown",
   "id": "acb378d3-7f41-44c9-bf7e-c22e4b277b30",
   "metadata": {},
   "source": [
    "## **Day-4**"
   ]
  },
  {
   "cell_type": "markdown",
   "id": "7bfd4297-5d86-4e8d-ac9a-f2b29896aa0c",
   "metadata": {},
   "source": [
    "## **String Processing**"
   ]
  },
  {
   "cell_type": "code",
   "execution_count": null,
   "id": "985c69be-f042-4b59-a4ea-a35fa146f65e",
   "metadata": {},
   "outputs": [],
   "source": [
    "index left to right ->  0   1   2   3   4   5   6   7   8   9\n",
    "               mystr =  u   n   i   v   e   r   s   i   t   y\n",
    "index right to left ->-10  -9  -8  -7  -6  -5  -4  -3  -2  -1 "
   ]
  },
  {
   "cell_type": "code",
   "execution_count": 5,
   "id": "42c72490-cb72-4366-9f62-d5ce331c3be7",
   "metadata": {},
   "outputs": [
    {
     "name": "stdout",
     "output_type": "stream",
     "text": [
      "university 10 <class 'str'> 2507402321392\n",
      "v v s s\n",
      "ver ver ver ver\n"
     ]
    }
   ],
   "source": [
    "mystr = \"university\"\n",
    "print (mystr, len(mystr), type(mystr), id(mystr))\n",
    "print (mystr[3], mystr[-7], mystr[6], mystr[-4]) # indexing\n",
    "print (mystr[3:6], mystr[3:-4], mystr[-7:6], mystr[-7:-4]) # slicing"
   ]
  },
  {
   "cell_type": "code",
   "execution_count": 6,
   "id": "5872d02d-1073-4d4a-afe5-19d62de9f68e",
   "metadata": {},
   "outputs": [
    {
     "name": "stdout",
     "output_type": "stream",
     "text": [
      "caLCuTTa unIVerSitY 19 <class 'str'> 2507630840448\n",
      "CALCUTTA UNIVERSITY\n",
      "calcutta university\n",
      "Calcutta University\n",
      "Calcutta university\n",
      "CAlcUttA UNivERsITy\n",
      "          caLCuTTa unIVerSitY           \n",
      "               CALCUTTA UNIVERSITY                \n"
     ]
    }
   ],
   "source": [
    "mystr = \"caLCuTTa unIVerSitY\"\n",
    "print (mystr, len(mystr), type(mystr), id(mystr))\n",
    "print (mystr.upper())\n",
    "print (mystr.lower())\n",
    "print (mystr.title())\n",
    "print (mystr.capitalize())\n",
    "print (mystr.swapcase())\n",
    "print (mystr.center(40))\n",
    "print (mystr.upper().center(50))"
   ]
  },
  {
   "cell_type": "code",
   "execution_count": 8,
   "id": "f5967c71-7f9f-456c-b2e5-62e30e83db42",
   "metadata": {},
   "outputs": [
    {
     "name": "stdout",
     "output_type": "stream",
     "text": [
      "4\n",
      "4\n",
      "11\n",
      "-1\n"
     ]
    }
   ],
   "source": [
    "mystr = \"charity begins at home\"\n",
    "print (mystr.find(\"ity\"))\n",
    "print (mystr.find(\"i\", 3))\n",
    "print (mystr.find(\"i\", 5))\n",
    "print (mystr.find(\"i\", 12))"
   ]
  },
  {
   "cell_type": "code",
   "execution_count": 9,
   "id": "e86df2d8-3b43-49da-a956-d59deb2d281f",
   "metadata": {},
   "outputs": [
    {
     "name": "stdout",
     "output_type": "stream",
     "text": [
      "4\n",
      "4\n",
      "11\n"
     ]
    },
    {
     "ename": "ValueError",
     "evalue": "substring not found",
     "output_type": "error",
     "traceback": [
      "\u001b[1;31m---------------------------------------------------------------------------\u001b[0m",
      "\u001b[1;31mValueError\u001b[0m                                Traceback (most recent call last)",
      "Cell \u001b[1;32mIn[9], line 5\u001b[0m\n\u001b[0;32m      3\u001b[0m \u001b[38;5;28mprint\u001b[39m (mystr\u001b[38;5;241m.\u001b[39mindex(\u001b[38;5;124m\"\u001b[39m\u001b[38;5;124mi\u001b[39m\u001b[38;5;124m\"\u001b[39m, \u001b[38;5;241m3\u001b[39m))\n\u001b[0;32m      4\u001b[0m \u001b[38;5;28mprint\u001b[39m (mystr\u001b[38;5;241m.\u001b[39mindex(\u001b[38;5;124m\"\u001b[39m\u001b[38;5;124mi\u001b[39m\u001b[38;5;124m\"\u001b[39m, \u001b[38;5;241m5\u001b[39m))\n\u001b[1;32m----> 5\u001b[0m \u001b[38;5;28mprint\u001b[39m (mystr\u001b[38;5;241m.\u001b[39mindex(\u001b[38;5;124m\"\u001b[39m\u001b[38;5;124mi\u001b[39m\u001b[38;5;124m\"\u001b[39m, \u001b[38;5;241m12\u001b[39m))\n",
      "\u001b[1;31mValueError\u001b[0m: substring not found"
     ]
    }
   ],
   "source": [
    "mystr = \"charity begins at home\"\n",
    "print (mystr.index(\"ity\"))\n",
    "print (mystr.index(\"i\", 3))\n",
    "print (mystr.index(\"i\", 5))\n",
    "print (mystr.index(\"i\", 12))"
   ]
  },
  {
   "cell_type": "code",
   "execution_count": 10,
   "id": "6ab71c9c-2fc0-49d2-86b4-08b3ceddb6c5",
   "metadata": {},
   "outputs": [
    {
     "name": "stdout",
     "output_type": "stream",
     "text": [
      "    calcutta    university      31 <class 'str'> 2507617676512\n",
      "calcutta    university 22\n",
      "calcutta    university      27\n",
      "    calcutta    university 26\n",
      "calcutta    university 22\n",
      "calcutta    university      27\n",
      "    calcutta    university 26\n"
     ]
    }
   ],
   "source": [
    "mystr = \"    calcutta    university     \"\n",
    "print (mystr, len(mystr), type(mystr), id(mystr))\n",
    "print (mystr.strip(), len(mystr.strip()))\n",
    "print (mystr.lstrip(), len(mystr.lstrip()))\n",
    "print (mystr.rstrip(), len(mystr.rstrip()))\n",
    "print (mystr.strip(\" \"), len(mystr.strip(\" \")))\n",
    "print (mystr.lstrip(\" \"), len(mystr.lstrip(\" \")))\n",
    "print (mystr.rstrip(\" \"), len(mystr.rstrip(\" \")))"
   ]
  },
  {
   "cell_type": "code",
   "execution_count": 11,
   "id": "0e19efce-4efe-469e-8f4b-56d2c76460f9",
   "metadata": {},
   "outputs": [
    {
     "name": "stdout",
     "output_type": "stream",
     "text": [
      "##@@calcutta#@#@university#@@@# 31 <class 'str'> 2507624369168\n",
      "calcutta#@#@university 22\n",
      "calcutta#@#@university#@@@# 27\n",
      "##@@calcutta#@#@university 26\n"
     ]
    }
   ],
   "source": [
    "mystr = \"##@@calcutta#@#@university#@@@#\"\n",
    "print (mystr, len(mystr), type(mystr), id(mystr))\n",
    "print (mystr.strip(\"#@\"), len(mystr.strip(\"#@\")))\n",
    "print (mystr.lstrip(\"#@\"), len(mystr.lstrip(\"#@\")))\n",
    "print (mystr.rstrip(\"#@\"), len(mystr.rstrip(\"#@\")))"
   ]
  },
  {
   "cell_type": "code",
   "execution_count": 17,
   "id": "619a420a-efda-4f2e-be1f-0e50ee933b13",
   "metadata": {},
   "outputs": [
    {
     "name": "stdout",
     "output_type": "stream",
     "text": [
      "True\n",
      "False\n",
      "True\n",
      "True\n"
     ]
    }
   ],
   "source": [
    "mystr = \"charity begins at home\"\n",
    "print (mystr.startswith(\"cha\"))\n",
    "print (mystr.startswith(\"beg\"))\n",
    "print (mystr.startswith(\"beg\", 8))\n",
    "print (mystr.startswith(\"beg\", 8, 20))"
   ]
  },
  {
   "cell_type": "code",
   "execution_count": 14,
   "id": "1abd930d-ff06-4f19-9ec6-6e729549df47",
   "metadata": {},
   "outputs": [
    {
     "name": "stdout",
     "output_type": "stream",
     "text": [
      "True\n",
      "False\n",
      "True\n"
     ]
    }
   ],
   "source": [
    "mystr = \"charity begins at home\"\n",
    "print (mystr.endswith(\"ome\"))\n",
    "print (mystr.endswith(\"gins\"))\n",
    "print (mystr.endswith(\"gins\", 0, 14))"
   ]
  },
  {
   "cell_type": "code",
   "execution_count": 18,
   "id": "d90949ea-d2ef-45d1-a654-3db94d601327",
   "metadata": {},
   "outputs": [
    {
     "name": "stdout",
     "output_type": "stream",
     "text": [
      "s\n",
      "c\n",
      "h\n",
      "o\n",
      "o\n",
      "l\n"
     ]
    }
   ],
   "source": [
    "mystr = \"school\"    # Reading character by character from a string\n",
    "for ch in mystr:\n",
    "    print (ch)"
   ]
  },
  {
   "cell_type": "code",
   "execution_count": 19,
   "id": "8537e266-f725-4335-8b00-ebdbd1aa8d36",
   "metadata": {},
   "outputs": [
    {
     "name": "stdout",
     "output_type": "stream",
     "text": [
      "s\n",
      "c\n",
      "h\n",
      "o\n",
      "o\n",
      "l\n"
     ]
    }
   ],
   "source": [
    "mystr = \"school\"    # Reading character by character from a string\n",
    "for i in range(len(mystr)):\n",
    "    print (mystr[i])"
   ]
  },
  {
   "cell_type": "code",
   "execution_count": 20,
   "id": "379d0253-6ce6-4431-a5a5-181b32f4728a",
   "metadata": {},
   "outputs": [
    {
     "name": "stdout",
     "output_type": "stream",
     "text": [
      "charity begins at home 22 <class 'str'> 2507630980080\n",
      "['charity', 'begins', 'at', 'home']\n",
      "['charity', 'begins', 'at', 'home']\n",
      "['char', 'ty beg', 'ns at home']\n"
     ]
    }
   ],
   "source": [
    "mystr = \"charity begins at home\"\n",
    "print (mystr, len(mystr), type(mystr), id(mystr))\n",
    "list1 = mystr.split()\n",
    "print (list1)\n",
    "list1 = mystr.split(\" \")\n",
    "print (list1)\n",
    "list1 = mystr.split(\"i\")\n",
    "print (list1)"
   ]
  },
  {
   "cell_type": "code",
   "execution_count": 22,
   "id": "4cfcca77-7927-4bcf-a14f-9e99c5132c5f",
   "metadata": {},
   "outputs": [
    {
     "name": "stdout",
     "output_type": "stream",
     "text": [
      "['charity', 'begins', 'at', 'home'] 4 <class 'list'> 2507622135680\n",
      "charity begins at home\n",
      "charity - begins - at - home\n",
      "charity, begins, at, home\n"
     ]
    }
   ],
   "source": [
    "list1 = ['charity', 'begins', 'at', 'home']\n",
    "print (list1, len(list1), type(list1), id(list1))\n",
    "mystr = \" \".join(list1)\n",
    "print (mystr)\n",
    "mystr = \" - \".join(list1)\n",
    "print (mystr)\n",
    "mystr = \", \".join(list1)\n",
    "print (mystr)"
   ]
  },
  {
   "cell_type": "code",
   "execution_count": 23,
   "id": "dd6b14d1-dabc-4bb1-b138-a4933c6972ff",
   "metadata": {},
   "outputs": [
    {
     "name": "stdout",
     "output_type": "stream",
     "text": [
      "abcd True True False\n",
      "123456 False True True\n",
      "abcd123456 False True False\n",
      "abcd@123456 False False False\n"
     ]
    }
   ],
   "source": [
    "mystr = \"abcd\"\n",
    "print (mystr, mystr.isalpha(), mystr.isalnum(), mystr.isnumeric())\n",
    "mystr = \"123456\"\n",
    "print (mystr, mystr.isalpha(), mystr.isalnum(), mystr.isnumeric())\n",
    "mystr = \"abcd123456\"\n",
    "print (mystr, mystr.isalpha(), mystr.isalnum(), mystr.isnumeric())\n",
    "mystr = \"abcd@123456\"\n",
    "print (mystr, mystr.isalpha(), mystr.isalnum(), mystr.isnumeric())"
   ]
  },
  {
   "cell_type": "code",
   "execution_count": 24,
   "id": "2709bbb7-3db0-4ad1-a692-df284ca26ea2",
   "metadata": {},
   "outputs": [
    {
     "name": "stdout",
     "output_type": "stream",
     "text": [
      "2 1 0\n",
      "unxversxty\n",
      "university\n",
      "unxversxty\n"
     ]
    }
   ],
   "source": [
    "mystr = \"university\"\n",
    "print (mystr.count(\"i\"), mystr.count(\"v\"), mystr.count(\"I\"))\n",
    "print (mystr.replace(\"i\", \"x\"))\n",
    "print (mystr)\n",
    "mystr = mystr.replace(\"i\", \"x\")\n",
    "print (mystr)"
   ]
  },
  {
   "cell_type": "code",
   "execution_count": null,
   "id": "e5b08c1f-2bb8-4851-a07a-70454e14f397",
   "metadata": {},
   "outputs": [],
   "source": [
    "help(str)"
   ]
  },
  {
   "cell_type": "markdown",
   "id": "a96f32d7-145d-48ad-b248-ece89b343ad1",
   "metadata": {},
   "source": [
    "## **List Processing**"
   ]
  },
  {
   "cell_type": "code",
   "execution_count": 26,
   "id": "8bed385e-3c51-41d6-82fd-9bc914a7e903",
   "metadata": {},
   "outputs": [
    {
     "name": "stdout",
     "output_type": "stream",
     "text": [
      "[100, 400, 300, 200, 700] 5 <class 'list'> 2507657646336\n",
      "700 100\n",
      "1700 340.0\n"
     ]
    }
   ],
   "source": [
    "list1 = [100, 400, 300, 200, 700]\n",
    "print (list1, len(list1), type(list1), id(list1))\n",
    "print (max(list1), min(list1))\n",
    "print (sum(list1), sum(list1) / len(list1))"
   ]
  },
  {
   "cell_type": "code",
   "execution_count": 27,
   "id": "e9df8583-88d3-4405-9a65-67de66254e1a",
   "metadata": {},
   "outputs": [
    {
     "name": "stdout",
     "output_type": "stream",
     "text": [
      "[100, 400, True, 300.5, 200, False, 700] 7 <class 'list'> 2507657648448\n",
      "700 False\n",
      "1701.5 243.07142857142858\n"
     ]
    }
   ],
   "source": [
    "list1 = [100, 400, True, 300.5, 200, False, 700]\n",
    "print (list1, len(list1), type(list1), id(list1))\n",
    "print (max(list1), min(list1))\n",
    "print (sum(list1), sum(list1) / len(list1))"
   ]
  },
  {
   "cell_type": "code",
   "execution_count": 30,
   "id": "58aca37c-0281-42f3-bcbf-41f9d949c9f0",
   "metadata": {},
   "outputs": [
    {
     "name": "stdout",
     "output_type": "stream",
     "text": [
      "['sunday', 'monday', 'friday', 'saturday', 'Tuesday'] 5 <class 'list'> 2507657964160\n",
      "sunday Tuesday\n"
     ]
    },
    {
     "ename": "TypeError",
     "evalue": "unsupported operand type(s) for +: 'int' and 'str'",
     "output_type": "error",
     "traceback": [
      "\u001b[1;31m---------------------------------------------------------------------------\u001b[0m",
      "\u001b[1;31mTypeError\u001b[0m                                 Traceback (most recent call last)",
      "Cell \u001b[1;32mIn[30], line 4\u001b[0m\n\u001b[0;32m      2\u001b[0m \u001b[38;5;28mprint\u001b[39m (list1, \u001b[38;5;28mlen\u001b[39m(list1), \u001b[38;5;28mtype\u001b[39m(list1), \u001b[38;5;28mid\u001b[39m(list1))\n\u001b[0;32m      3\u001b[0m \u001b[38;5;28mprint\u001b[39m (\u001b[38;5;28mmax\u001b[39m(list1), \u001b[38;5;28mmin\u001b[39m(list1))\n\u001b[1;32m----> 4\u001b[0m \u001b[38;5;28mprint\u001b[39m (\u001b[38;5;28msum\u001b[39m(list1), \u001b[38;5;28msum\u001b[39m(list1) \u001b[38;5;241m/\u001b[39m \u001b[38;5;28mlen\u001b[39m(list1))\n",
      "\u001b[1;31mTypeError\u001b[0m: unsupported operand type(s) for +: 'int' and 'str'"
     ]
    }
   ],
   "source": [
    "list1 = [\"sunday\", \"monday\", 'friday', 'saturday', 'Tuesday']\n",
    "print (list1, len(list1), type(list1), id(list1))\n",
    "print (max(list1), min(list1))\n",
    "print (sum(list1), sum(list1) / len(list1))"
   ]
  },
  {
   "cell_type": "code",
   "execution_count": 31,
   "id": "bbeb1b7e-a71c-45cb-b90d-458294cfd859",
   "metadata": {},
   "outputs": [
    {
     "name": "stdout",
     "output_type": "stream",
     "text": [
      "[100, 400, True, 'Tuesday', 300.5, 'Wednesday', 200, False, 700] 9 <class 'list'> 2507658419136\n"
     ]
    },
    {
     "ename": "TypeError",
     "evalue": "'>' not supported between instances of 'str' and 'int'",
     "output_type": "error",
     "traceback": [
      "\u001b[1;31m---------------------------------------------------------------------------\u001b[0m",
      "\u001b[1;31mTypeError\u001b[0m                                 Traceback (most recent call last)",
      "Cell \u001b[1;32mIn[31], line 3\u001b[0m\n\u001b[0;32m      1\u001b[0m list1 \u001b[38;5;241m=\u001b[39m [\u001b[38;5;241m100\u001b[39m, \u001b[38;5;241m400\u001b[39m, \u001b[38;5;28;01mTrue\u001b[39;00m, \u001b[38;5;124m\"\u001b[39m\u001b[38;5;124mTuesday\u001b[39m\u001b[38;5;124m\"\u001b[39m, \u001b[38;5;241m300.5\u001b[39m, \u001b[38;5;124m\"\u001b[39m\u001b[38;5;124mWednesday\u001b[39m\u001b[38;5;124m\"\u001b[39m, \u001b[38;5;241m200\u001b[39m, \u001b[38;5;28;01mFalse\u001b[39;00m, \u001b[38;5;241m700\u001b[39m]\n\u001b[0;32m      2\u001b[0m \u001b[38;5;28mprint\u001b[39m (list1, \u001b[38;5;28mlen\u001b[39m(list1), \u001b[38;5;28mtype\u001b[39m(list1), \u001b[38;5;28mid\u001b[39m(list1))\n\u001b[1;32m----> 3\u001b[0m \u001b[38;5;28mprint\u001b[39m (\u001b[38;5;28mmax\u001b[39m(list1), \u001b[38;5;28mmin\u001b[39m(list1))\n\u001b[0;32m      4\u001b[0m \u001b[38;5;28mprint\u001b[39m (\u001b[38;5;28msum\u001b[39m(list1), \u001b[38;5;28msum\u001b[39m(list1) \u001b[38;5;241m/\u001b[39m \u001b[38;5;28mlen\u001b[39m(list1))\n",
      "\u001b[1;31mTypeError\u001b[0m: '>' not supported between instances of 'str' and 'int'"
     ]
    }
   ],
   "source": [
    "list1 = [100, 400, True, \"Tuesday\", 300.5, \"Wednesday\", 200, False, 700]\n",
    "print (list1, len(list1), type(list1), id(list1))\n",
    "print (max(list1), min(list1))\n",
    "print (sum(list1), sum(list1) / len(list1))"
   ]
  },
  {
   "cell_type": "code",
   "execution_count": 32,
   "id": "7b2342e6-8fe7-4c94-bc7a-c89c56bf1f57",
   "metadata": {},
   "outputs": [
    {
     "name": "stdout",
     "output_type": "stream",
     "text": [
      "['Monday', 'Tuesday', 'Wednesday', 'Thursday', 'Friday'] 5\n",
      "['Mango', 'Pineapple', 'Guava', 'Lime'] 4\n",
      "['Monday', 'Tuesday', 'Wednesday', 'Thursday', 'Friday', 'Mango', 'Pineapple', 'Guava', 'Lime'] 9\n",
      "['Monday', 'Tuesday', 'Wednesday', 'Thursday', 'Friday', 'Mango', 'Pineapple', 'Guava', 'Lime'] 9\n",
      "['Mango', 'Pineapple', 'Guava', 'Lime'] 4\n"
     ]
    }
   ],
   "source": [
    "list1 = [\"Monday\", \"Tuesday\", \"Wednesday\", \"Thursday\", \"Friday\"]\n",
    "list2 = [\"Mango\", \"Pineapple\", \"Guava\", \"Lime\"]\n",
    "print (list1, len(list1))\n",
    "print (list2, len(list2))\n",
    "list3 = list1 + list2    # list concatenation\n",
    "print (list3, len(list3))\n",
    "list1.extend(list2)      # list concatenation\n",
    "print (list1, len(list1))\n",
    "print (list2, len(list2))"
   ]
  },
  {
   "cell_type": "code",
   "execution_count": 33,
   "id": "bcff41fd-ed58-47f1-a211-9d6b3fb058c6",
   "metadata": {},
   "outputs": [
    {
     "name": "stdout",
     "output_type": "stream",
     "text": [
      "['Monday', 'Tuesday', 'Wednesday', 'Thursday', 'Friday'] 5\n",
      "['Mango', 'Pineapple', 'Guava', 'Lime'] 4\n",
      "[['Monday', 'Tuesday', 'Wednesday', 'Thursday', 'Friday'], ['Mango', 'Pineapple', 'Guava', 'Lime']] 2\n",
      "5 4\n",
      "['Pineapple', 'Guava'] ['Wednesday', 'Thursday'] nes\n"
     ]
    }
   ],
   "source": [
    "list1 = [\"Monday\", \"Tuesday\", \"Wednesday\", \"Thursday\", \"Friday\"]\n",
    "list2 = [\"Mango\", \"Pineapple\", \"Guava\", \"Lime\"]\n",
    "print (list1, len(list1))\n",
    "print (list2, len(list2))\n",
    "list3 = [list1, list2]      # list of lists\n",
    "print (list3, len(list3))\n",
    "print (len(list3[0]), len(list3[1]))\n",
    "print (list3[1][1:3], list3[0][2:4], list3[0][2][3:6])"
   ]
  },
  {
   "cell_type": "code",
   "execution_count": 34,
   "id": "0403e720-366c-44c6-9dcb-e0b53c048681",
   "metadata": {},
   "outputs": [
    {
     "name": "stdout",
     "output_type": "stream",
     "text": [
      "['Mango', 'Pineapple', 'Coconut', 'Banana', 'Lime'] 5\n",
      "['Mango', 'Pineapple', 'Coconut', 'Banana', 'Lime', 'Guava'] 6\n",
      "['Mango', 'Pineapple', 'Coconut', 'Banana', 'Lime', 'Guava', 'Apple'] 7\n",
      "['Mango', 'Pineapple', 'Coconut', 'Banana', 'Lime', 'Guava', 'Apple', 'Lemon'] 8\n"
     ]
    }
   ],
   "source": [
    "# insert operation on list\n",
    "list1 = ['Mango', 'Pineapple', 'Coconut', 'Banana', 'Lime']\n",
    "print (list1, len(list1))\n",
    "list1.append(\"Guava\")\n",
    "print (list1, len(list1))\n",
    "list1.append(\"Apple\")\n",
    "print (list1, len(list1))\n",
    "list1.append(\"Lemon\")\n",
    "print (list1, len(list1))"
   ]
  },
  {
   "cell_type": "code",
   "execution_count": 35,
   "id": "b72d5c40-5e2d-4357-af9b-443a7f8ca459",
   "metadata": {},
   "outputs": [
    {
     "name": "stdout",
     "output_type": "stream",
     "text": [
      "['Mango', 'Pineapple', 'Coconut', 'Banana', 'Lime'] 5\n",
      "['Mango', 'Pineapple', 'Guava', 'Coconut', 'Banana', 'Lime'] 6\n",
      "['Mango', 'Apple', 'Pineapple', 'Guava', 'Coconut', 'Banana', 'Lime'] 7\n",
      "['Mango', 'Apple', 'Pineapple', 'Lemon', 'Guava', 'Coconut', 'Banana', 'Lime'] 8\n"
     ]
    }
   ],
   "source": [
    "list1 = ['Mango', 'Pineapple', 'Coconut', 'Banana', 'Lime']\n",
    "print (list1, len(list1))\n",
    "list1.insert(2, \"Guava\")\n",
    "print (list1, len(list1))\n",
    "list1.insert(1, \"Apple\")\n",
    "print (list1, len(list1))\n",
    "list1.insert(3, \"Lemon\")\n",
    "print (list1, len(list1))"
   ]
  },
  {
   "cell_type": "code",
   "execution_count": 36,
   "id": "00d65ef8-d345-4705-8bfe-eac4d2bc5350",
   "metadata": {},
   "outputs": [
    {
     "name": "stdout",
     "output_type": "stream",
     "text": [
      "['Mango', 'Pineapple', 'Coconut', 'Banana', 'Lime'] 5\n",
      "['Himsagar', 'Pineapple', 'Coconut', 'Banana', 'Lime'] 5\n",
      "['Himsagar', 'Pineapple', 'Coconut', 'Banana', 'Lemon'] 5\n"
     ]
    }
   ],
   "source": [
    "# update operation on list\n",
    "list1 = ['Mango', 'Pineapple', 'Coconut', 'Banana', 'Lime']\n",
    "print (list1, len(list1))\n",
    "list1[0] = \"Himsagar\"\n",
    "print (list1, len(list1))\n",
    "list1[4] = \"Lemon\"\n",
    "print (list1, len(list1))"
   ]
  },
  {
   "cell_type": "code",
   "execution_count": 37,
   "id": "f8452f07-6eb0-403e-a13d-a5719d409502",
   "metadata": {},
   "outputs": [
    {
     "name": "stdout",
     "output_type": "stream",
     "text": [
      "['Mango', 'Pineapple', 'Coconut', 'Banana', 'Lime'] 5\n",
      "['Mango', 'Coconut', 'Banana', 'Lime'] 4\n",
      "['Mango', 'Coconut', 'Lime'] 3\n"
     ]
    },
    {
     "ename": "ValueError",
     "evalue": "list.remove(x): x not in list",
     "output_type": "error",
     "traceback": [
      "\u001b[1;31m---------------------------------------------------------------------------\u001b[0m",
      "\u001b[1;31mValueError\u001b[0m                                Traceback (most recent call last)",
      "Cell \u001b[1;32mIn[37], line 8\u001b[0m\n\u001b[0;32m      6\u001b[0m list1\u001b[38;5;241m.\u001b[39mremove(\u001b[38;5;124m\"\u001b[39m\u001b[38;5;124mBanana\u001b[39m\u001b[38;5;124m\"\u001b[39m)\n\u001b[0;32m      7\u001b[0m \u001b[38;5;28mprint\u001b[39m (list1, \u001b[38;5;28mlen\u001b[39m(list1))\n\u001b[1;32m----> 8\u001b[0m list1\u001b[38;5;241m.\u001b[39mremove(\u001b[38;5;124m\"\u001b[39m\u001b[38;5;124mLemon\u001b[39m\u001b[38;5;124m\"\u001b[39m)\n\u001b[0;32m      9\u001b[0m \u001b[38;5;28mprint\u001b[39m (list1, \u001b[38;5;28mlen\u001b[39m(list1))\n",
      "\u001b[1;31mValueError\u001b[0m: list.remove(x): x not in list"
     ]
    }
   ],
   "source": [
    "# deletion operation on list\n",
    "list1 = ['Mango', 'Pineapple', 'Coconut', 'Banana', 'Lime']\n",
    "print (list1, len(list1))\n",
    "list1.remove(\"Pineapple\")\n",
    "print (list1, len(list1))\n",
    "list1.remove(\"Banana\")\n",
    "print (list1, len(list1))\n",
    "list1.remove(\"Lemon\")\n",
    "print (list1, len(list1))"
   ]
  },
  {
   "cell_type": "code",
   "execution_count": 39,
   "id": "021672b3-2e59-4238-a6b2-ec8b68b0e06a",
   "metadata": {},
   "outputs": [
    {
     "name": "stdout",
     "output_type": "stream",
     "text": [
      "['Mango', 'Pineapple', 'Coconut', 'Banana', 'Lime'] 5\n",
      "Lime\n",
      "['Mango', 'Pineapple', 'Coconut', 'Banana'] 4\n",
      "Banana\n",
      "['Mango', 'Pineapple', 'Coconut'] 3\n",
      "Coconut\n",
      "['Mango', 'Pineapple'] 2\n"
     ]
    }
   ],
   "source": [
    "list1 = ['Mango', 'Pineapple', 'Coconut', 'Banana', 'Lime']\n",
    "print (list1, len(list1))\n",
    "print (list1.pop())\n",
    "print (list1, len(list1))\n",
    "print (list1.pop())\n",
    "print (list1, len(list1))\n",
    "print (list1.pop())\n",
    "print (list1, len(list1))"
   ]
  },
  {
   "cell_type": "code",
   "execution_count": 40,
   "id": "c1143676-917b-4759-b169-7cbd86a213e4",
   "metadata": {},
   "outputs": [
    {
     "name": "stdout",
     "output_type": "stream",
     "text": [
      "['Mango', 'Pineapple', 'Coconut', 'Banana', 'Lime'] 5\n",
      "Coconut\n",
      "['Mango', 'Pineapple', 'Banana', 'Lime'] 4\n",
      "Mango\n",
      "['Pineapple', 'Banana', 'Lime'] 3\n",
      "Banana\n",
      "['Pineapple', 'Lime'] 2\n"
     ]
    }
   ],
   "source": [
    "list1 = ['Mango', 'Pineapple', 'Coconut', 'Banana', 'Lime']\n",
    "print (list1, len(list1))\n",
    "print (list1.pop(2))\n",
    "print (list1, len(list1))\n",
    "print (list1.pop(0))\n",
    "print (list1, len(list1))\n",
    "print (list1.pop(1))\n",
    "print (list1, len(list1))"
   ]
  },
  {
   "cell_type": "code",
   "execution_count": 41,
   "id": "9a7328c5-ff36-4a30-b87d-888b01efae67",
   "metadata": {},
   "outputs": [
    {
     "name": "stdout",
     "output_type": "stream",
     "text": [
      "['Mango', 'Pineapple', 'Coconut', 'Banana', 'Lime'] 5\n",
      "[] 0\n"
     ]
    }
   ],
   "source": [
    "list1 = ['Mango', 'Pineapple', 'Coconut', 'Banana', 'Lime']\n",
    "print (list1, len(list1))\n",
    "list1.clear()\n",
    "print (list1, len(list1))"
   ]
  },
  {
   "cell_type": "code",
   "execution_count": 42,
   "id": "205688d5-bec8-4756-935f-f45ad44c0b5f",
   "metadata": {},
   "outputs": [
    {
     "name": "stdout",
     "output_type": "stream",
     "text": [
      "['Mango', 'Pineapple', 'Coconut', 'Banana', 'Lime'] 5\n",
      "['Mango', 'Pineapple', 'Banana', 'Lime'] 4\n",
      "['Pineapple', 'Banana', 'Lime'] 3\n",
      "['Pineapple', 'Lime'] 2\n"
     ]
    }
   ],
   "source": [
    "list1 = ['Mango', 'Pineapple', 'Coconut', 'Banana', 'Lime']\n",
    "print (list1, len(list1))\n",
    "del list1[2]\n",
    "print (list1, len(list1))\n",
    "del list1[0]\n",
    "print (list1, len(list1))\n",
    "del list1[1]\n",
    "print (list1, len(list1))"
   ]
  },
  {
   "cell_type": "code",
   "execution_count": 43,
   "id": "a23ef178-240a-4ed8-a811-1ce35f8f7ac0",
   "metadata": {},
   "outputs": [
    {
     "name": "stdout",
     "output_type": "stream",
     "text": [
      "['Mango', 'Pineapple', 'Coconut', 'Banana', 'Lime'] 5\n"
     ]
    },
    {
     "ename": "NameError",
     "evalue": "name 'list1' is not defined",
     "output_type": "error",
     "traceback": [
      "\u001b[1;31m---------------------------------------------------------------------------\u001b[0m",
      "\u001b[1;31mNameError\u001b[0m                                 Traceback (most recent call last)",
      "Cell \u001b[1;32mIn[43], line 4\u001b[0m\n\u001b[0;32m      2\u001b[0m \u001b[38;5;28mprint\u001b[39m (list1, \u001b[38;5;28mlen\u001b[39m(list1))\n\u001b[0;32m      3\u001b[0m \u001b[38;5;28;01mdel\u001b[39;00m list1\n\u001b[1;32m----> 4\u001b[0m \u001b[38;5;28mprint\u001b[39m (list1, \u001b[38;5;28mlen\u001b[39m(list1))\n",
      "\u001b[1;31mNameError\u001b[0m: name 'list1' is not defined"
     ]
    }
   ],
   "source": [
    "list1 = ['Mango', 'Pineapple', 'Coconut', 'Banana', 'Lime']\n",
    "print (list1, len(list1))\n",
    "del list1\n",
    "print (list1, len(list1))"
   ]
  },
  {
   "cell_type": "code",
   "execution_count": 44,
   "id": "721dd5cc-7fb3-4939-a2dc-35036390785c",
   "metadata": {},
   "outputs": [
    {
     "name": "stdout",
     "output_type": "stream",
     "text": [
      "['Mango', 'Pineapple', 'Coconut', 'Banana', 'Lime'] 5\n",
      "None\n",
      "['Lime', 'Banana', 'Coconut', 'Pineapple', 'Mango'] 5\n"
     ]
    }
   ],
   "source": [
    "# reverse of a list\n",
    "list1 = ['Mango', 'Pineapple', 'Coconut', 'Banana', 'Lime']\n",
    "print (list1, len(list1))\n",
    "print (list1.reverse())\n",
    "print (list1, len(list1))"
   ]
  },
  {
   "cell_type": "code",
   "execution_count": 45,
   "id": "cea9f8e9-23d7-4e2b-a46e-1e6d0b38cf60",
   "metadata": {},
   "outputs": [
    {
     "name": "stdout",
     "output_type": "stream",
     "text": [
      "['Mango', 'Pineapple', 'Coconut', 'Banana', 'Lime'] 5\n",
      "['Banana', 'Coconut', 'Lime', 'Mango', 'Pineapple'] 5\n"
     ]
    }
   ],
   "source": [
    "# sorting of a list\n",
    "list1 = ['Mango', 'Pineapple', 'Coconut', 'Banana', 'Lime']\n",
    "print (list1, len(list1))\n",
    "list1.sort()\n",
    "print (list1, len(list1))"
   ]
  },
  {
   "cell_type": "code",
   "execution_count": 46,
   "id": "2e08de06-5ef6-4e76-977c-b31f6fde48d7",
   "metadata": {},
   "outputs": [
    {
     "name": "stdout",
     "output_type": "stream",
     "text": [
      "['Mango', 'Pineapple', 'Coconut', 'Banana', 'Lime'] 5\n",
      "['Pineapple', 'Mango', 'Lime', 'Coconut', 'Banana'] 5\n"
     ]
    }
   ],
   "source": [
    "list1 = ['Mango', 'Pineapple', 'Coconut', 'Banana', 'Lime']\n",
    "print (list1, len(list1))\n",
    "list1.sort(reverse = True)\n",
    "print (list1, len(list1))"
   ]
  },
  {
   "cell_type": "code",
   "execution_count": 47,
   "id": "af3e2706-718c-4acd-ad12-ea286e5728c7",
   "metadata": {},
   "outputs": [
    {
     "name": "stdout",
     "output_type": "stream",
     "text": [
      "['Mango', 'Pineapple', 'Coconut', 'Banana', 'Lime'] 5\n",
      "['Banana', 'Coconut', 'Lime', 'Mango', 'Pineapple'] 5\n"
     ]
    }
   ],
   "source": [
    "list1 = ['Mango', 'Pineapple', 'Coconut', 'Banana', 'Lime']\n",
    "print (list1, len(list1))\n",
    "list1 = sorted(list1)\n",
    "print (list1, len(list1))"
   ]
  },
  {
   "cell_type": "code",
   "execution_count": 48,
   "id": "af704dd1-9411-4e0b-8fee-1bf4772eaff9",
   "metadata": {},
   "outputs": [
    {
     "name": "stdout",
     "output_type": "stream",
     "text": [
      "['Mango', 'Pineapple', 'Coconut', 'Banana', 'Lime'] 5\n",
      "['Pineapple', 'Mango', 'Lime', 'Coconut', 'Banana'] 5\n"
     ]
    }
   ],
   "source": [
    "list1 = ['Mango', 'Pineapple', 'Coconut', 'Banana', 'Lime']\n",
    "print (list1, len(list1))\n",
    "list1 = sorted(list1, reverse = True)\n",
    "print (list1, len(list1))"
   ]
  },
  {
   "cell_type": "code",
   "execution_count": 51,
   "id": "ba04b873-cf72-44bd-9416-de6d5a91deac",
   "metadata": {},
   "outputs": [
    {
     "name": "stdout",
     "output_type": "stream",
     "text": [
      "['Mango', 'Pineapple', 'Coconut', 'Banana', 'Pineapple', 'Coconut', 'Banana', 'Lime'] 8\n",
      "2\n",
      "1\n",
      "4\n"
     ]
    }
   ],
   "source": [
    "list1 = ['Mango', 'Pineapple', 'Coconut', 'Banana', 'Pineapple', 'Coconut', 'Banana', 'Lime']\n",
    "print (list1, len(list1))\n",
    "print (list1.count('Pineapple'))\n",
    "print (list1.index(\"Pineapple\"))\n",
    "print (list1.index(\"Pineapple\", 2))"
   ]
  },
  {
   "cell_type": "code",
   "execution_count": null,
   "id": "56a3eec3-4417-458a-97e5-c9d56cc957dd",
   "metadata": {},
   "outputs": [],
   "source": [
    "help(list)"
   ]
  },
  {
   "cell_type": "markdown",
   "id": "8ec67048-b4fc-4657-b72c-3190c2351966",
   "metadata": {},
   "source": [
    "## **Tuple Processing**"
   ]
  },
  {
   "cell_type": "code",
   "execution_count": 52,
   "id": "1c4b00d2-3a17-4d90-a415-d0f47f87757a",
   "metadata": {},
   "outputs": [
    {
     "name": "stdout",
     "output_type": "stream",
     "text": [
      "(100, 400, 300, 200, 700) 5 <class 'tuple'> 2507659980336\n",
      "700 100\n",
      "1700 340.0\n"
     ]
    }
   ],
   "source": [
    "tuple1 = (100, 400, 300, 200, 700)\n",
    "print (tuple1, len(tuple1), type(tuple1), id(tuple1))\n",
    "print (max(tuple1), min(tuple1))\n",
    "print (sum(tuple1), sum(tuple1) / len(tuple1))"
   ]
  },
  {
   "cell_type": "code",
   "execution_count": 53,
   "id": "15297efa-907b-483b-a28b-8e513875ed27",
   "metadata": {},
   "outputs": [
    {
     "name": "stdout",
     "output_type": "stream",
     "text": [
      "(100, 400, True, 300.5, 200, False, 700) 7 <class 'tuple'> 2507659191264\n",
      "700 False\n",
      "1701.5 243.07142857142858\n"
     ]
    }
   ],
   "source": [
    "tuple1 = (100, 400, True, 300.5, 200, False, 700)\n",
    "print (tuple1, len(tuple1), type(tuple1), id(tuple1))\n",
    "print (max(tuple1), min(tuple1))\n",
    "print (sum(tuple1), sum(tuple1) / len(tuple1))"
   ]
  },
  {
   "cell_type": "code",
   "execution_count": 54,
   "id": "9a0ffd1e-a887-4b31-befb-c443fe2ffce0",
   "metadata": {},
   "outputs": [
    {
     "name": "stdout",
     "output_type": "stream",
     "text": [
      "('sunday', 'monday', 'friday', 'saturday', 'tuesday') 5 <class 'tuple'> 2507659980336\n",
      "tuesday friday\n"
     ]
    },
    {
     "ename": "TypeError",
     "evalue": "unsupported operand type(s) for +: 'int' and 'str'",
     "output_type": "error",
     "traceback": [
      "\u001b[1;31m---------------------------------------------------------------------------\u001b[0m",
      "\u001b[1;31mTypeError\u001b[0m                                 Traceback (most recent call last)",
      "Cell \u001b[1;32mIn[54], line 4\u001b[0m\n\u001b[0;32m      2\u001b[0m \u001b[38;5;28mprint\u001b[39m (tuple1, \u001b[38;5;28mlen\u001b[39m(tuple1), \u001b[38;5;28mtype\u001b[39m(tuple1), \u001b[38;5;28mid\u001b[39m(tuple1))\n\u001b[0;32m      3\u001b[0m \u001b[38;5;28mprint\u001b[39m (\u001b[38;5;28mmax\u001b[39m(tuple1), \u001b[38;5;28mmin\u001b[39m(tuple1))\n\u001b[1;32m----> 4\u001b[0m \u001b[38;5;28mprint\u001b[39m (\u001b[38;5;28msum\u001b[39m(tuple1), \u001b[38;5;28msum\u001b[39m(tuple1) \u001b[38;5;241m/\u001b[39m \u001b[38;5;28mlen\u001b[39m(tuple1))\n",
      "\u001b[1;31mTypeError\u001b[0m: unsupported operand type(s) for +: 'int' and 'str'"
     ]
    }
   ],
   "source": [
    "tuple1 = (\"sunday\", \"monday\", 'friday', 'saturday', 'tuesday')\n",
    "print (tuple1, len(tuple1), type(tuple1), id(tuple1))\n",
    "print (max(tuple1), min(tuple1))\n",
    "print (sum(tuple1), sum(tuple1) / len(tuple1))"
   ]
  },
  {
   "cell_type": "code",
   "execution_count": 55,
   "id": "fc639bad-f058-4195-9e81-d899f33e7be0",
   "metadata": {},
   "outputs": [
    {
     "name": "stdout",
     "output_type": "stream",
     "text": [
      "(100, 400, True, 'Tuesday', 300, 'Wednesday', 200.5, False, 700) 9 <class 'tuple'> 2507657691200\n"
     ]
    },
    {
     "ename": "TypeError",
     "evalue": "'>' not supported between instances of 'str' and 'int'",
     "output_type": "error",
     "traceback": [
      "\u001b[1;31m---------------------------------------------------------------------------\u001b[0m",
      "\u001b[1;31mTypeError\u001b[0m                                 Traceback (most recent call last)",
      "Cell \u001b[1;32mIn[55], line 3\u001b[0m\n\u001b[0;32m      1\u001b[0m tuple1 \u001b[38;5;241m=\u001b[39m (\u001b[38;5;241m100\u001b[39m, \u001b[38;5;241m400\u001b[39m, \u001b[38;5;28;01mTrue\u001b[39;00m, \u001b[38;5;124m\"\u001b[39m\u001b[38;5;124mTuesday\u001b[39m\u001b[38;5;124m\"\u001b[39m, \u001b[38;5;241m300\u001b[39m, \u001b[38;5;124m\"\u001b[39m\u001b[38;5;124mWednesday\u001b[39m\u001b[38;5;124m\"\u001b[39m, \u001b[38;5;241m200.5\u001b[39m, \u001b[38;5;28;01mFalse\u001b[39;00m, \u001b[38;5;241m700\u001b[39m)\n\u001b[0;32m      2\u001b[0m \u001b[38;5;28mprint\u001b[39m (tuple1, \u001b[38;5;28mlen\u001b[39m(tuple1), \u001b[38;5;28mtype\u001b[39m(tuple1), \u001b[38;5;28mid\u001b[39m(tuple1))\n\u001b[1;32m----> 3\u001b[0m \u001b[38;5;28mprint\u001b[39m (\u001b[38;5;28mmax\u001b[39m(tuple1), \u001b[38;5;28mmin\u001b[39m(tuple1))\n\u001b[0;32m      4\u001b[0m \u001b[38;5;28mprint\u001b[39m (\u001b[38;5;28msum\u001b[39m(tuple1), \u001b[38;5;28msum\u001b[39m(tuple1) \u001b[38;5;241m/\u001b[39m \u001b[38;5;28mlen\u001b[39m(tuple1))\n",
      "\u001b[1;31mTypeError\u001b[0m: '>' not supported between instances of 'str' and 'int'"
     ]
    }
   ],
   "source": [
    "tuple1 = (100, 400, True, \"Tuesday\", 300, \"Wednesday\", 200.5, False, 700)\n",
    "print (tuple1, len(tuple1), type(tuple1), id(tuple1))\n",
    "print (max(tuple1), min(tuple1))\n",
    "print (sum(tuple1), sum(tuple1) / len(tuple1))"
   ]
  },
  {
   "cell_type": "code",
   "execution_count": 56,
   "id": "609d9b74-f745-4d7c-b1f2-53c3c1704912",
   "metadata": {},
   "outputs": [
    {
     "name": "stdout",
     "output_type": "stream",
     "text": [
      "('Monday', 'Tuesday', 'Wednesday', 'Thursday', 'Friday') 5 <class 'tuple'> 2507657979888\n",
      "Wednesday Wednesday Thursday Thursday\n",
      "nes nes\n",
      "hurs hurs\n"
     ]
    }
   ],
   "source": [
    "# Indexing and slicing\n",
    "# L ro R ->   0         1          2            3           4\n",
    "tuple1 =    (\"Monday\", \"Tuesday\", \"Wednesday\", \"Thursday\", \"Friday\")\n",
    "# R to L ->  -5        -4         -3           -2          -1\n",
    "print (tuple1, len(tuple1), type(tuple1), id(tuple1))\n",
    "print (tuple1[2], tuple1[-3], tuple1[3], tuple1[-2])\n",
    "print (tuple1[2][3:6], tuple1[-3][-6:-3])\n",
    "print (tuple1[3][1:5], tuple1[-2][-7:-3])"
   ]
  },
  {
   "cell_type": "code",
   "execution_count": 57,
   "id": "f727080c-b57c-4b09-a53a-363f9b208ceb",
   "metadata": {},
   "outputs": [
    {
     "name": "stdout",
     "output_type": "stream",
     "text": [
      "('Monday', 'Tuesday', 'Wednesday', 'Thursday', 'Friday') 5\n",
      "('Mango', 'Pineapple', 'Guava', 'Lime') 4\n",
      "('Monday', 'Tuesday', 'Wednesday', 'Thursday', 'Friday', 'Mango', 'Pineapple', 'Guava', 'Lime') 9\n",
      "(('Monday', 'Tuesday', 'Wednesday', 'Thursday', 'Friday'), ('Mango', 'Pineapple', 'Guava', 'Lime')) 2\n"
     ]
    }
   ],
   "source": [
    "tuple1 = (\"Monday\", \"Tuesday\", \"Wednesday\", \"Thursday\", \"Friday\")\n",
    "tuple2 = (\"Mango\", \"Pineapple\", \"Guava\", \"Lime\")\n",
    "print (tuple1, len(tuple1))\n",
    "print (tuple2, len(tuple2))\n",
    "tuple3 = tuple1 + tuple2    # tuple concatenation\n",
    "print (tuple3, len(tuple3))\n",
    "tuple3 = (tuple1, tuple2)   # tuple of tuples\n",
    "print (tuple3, len(tuple3))"
   ]
  },
  {
   "cell_type": "code",
   "execution_count": 59,
   "id": "0e11a561-936c-4284-a034-fe536915f67b",
   "metadata": {},
   "outputs": [
    {
     "name": "stdout",
     "output_type": "stream",
     "text": [
      "('Monday', 'Tuesday', 'Wednesday', 'Thursday', 'Friday') <class 'tuple'> 2507663482512\n",
      "['Monday', 'Saturday', 'Wednesday', 'Thursday', 'Friday'] <class 'list'> 2507622361280\n",
      "('Monday', 'Saturday', 'Wednesday', 'Thursday', 'Friday') <class 'tuple'> 2507657979888\n"
     ]
    }
   ],
   "source": [
    "# update operation on a tuple\n",
    "tuple1 = (\"Monday\", \"Tuesday\", \"Wednesday\", \"Thursday\", \"Friday\")\n",
    "print (tuple1, type(tuple1), id(tuple1))\n",
    "# tuple1[1] = 'Saturday'\n",
    "list1 = list(tuple1)\n",
    "list1[1] = 'Saturday'\n",
    "print (list1, type(list1), id(list1))\n",
    "tuple1 = tuple(list1)\n",
    "print (tuple1, type(tuple1), id(tuple1))"
   ]
  },
  {
   "cell_type": "code",
   "execution_count": 60,
   "id": "b21ffaf9-ea08-44fc-9aa9-a8978b3a8f24",
   "metadata": {},
   "outputs": [
    {
     "name": "stdout",
     "output_type": "stream",
     "text": [
      "('Monday', 'Tuesday', 'Wednesday', 'Thursday', 'Friday')\n",
      "('Friday', 'Monday', 'Thursday', 'Tuesday', 'Wednesday')\n"
     ]
    }
   ],
   "source": [
    "# sorting on a tuple\n",
    "tuple1 = (\"Monday\", \"Tuesday\", \"Wednesday\", \"Thursday\", \"Friday\")\n",
    "print (tuple1)\n",
    "tuple2 = tuple(sorted(tuple1))\n",
    "print (tuple2)"
   ]
  },
  {
   "cell_type": "code",
   "execution_count": 62,
   "id": "d1c0b72d-e799-4751-b26e-22e65b72dd9f",
   "metadata": {},
   "outputs": [
    {
     "name": "stdout",
     "output_type": "stream",
     "text": [
      "('Mango', 'Pineapple', 'Coconut', 'Banana', 'Pineapple', 'Coconut', 'Banana', 'Lime')\n",
      "2 0\n"
     ]
    }
   ],
   "source": [
    "tuple1 = ('Mango', 'Pineapple', 'Coconut', 'Banana', 'Pineapple', 'Coconut', 'Banana', 'Lime')\n",
    "print (tuple1)\n",
    "print (tuple1.count('Pineapple'), tuple1.count('Lemon'))"
   ]
  },
  {
   "cell_type": "code",
   "execution_count": 63,
   "id": "76dba55e-7147-47da-89fb-57f133b1c605",
   "metadata": {},
   "outputs": [
    {
     "name": "stdout",
     "output_type": "stream",
     "text": [
      "('Mango', 'Pineapple', 'Coconut', 'Banana', 'Pineapple', 'Coconut', 'Banana', 'Lime')\n",
      "1\n",
      "1\n",
      "4\n"
     ]
    },
    {
     "ename": "ValueError",
     "evalue": "tuple.index(x): x not in tuple",
     "output_type": "error",
     "traceback": [
      "\u001b[1;31m---------------------------------------------------------------------------\u001b[0m",
      "\u001b[1;31mValueError\u001b[0m                                Traceback (most recent call last)",
      "Cell \u001b[1;32mIn[63], line 6\u001b[0m\n\u001b[0;32m      4\u001b[0m \u001b[38;5;28mprint\u001b[39m (tuple1\u001b[38;5;241m.\u001b[39mindex(\u001b[38;5;124m\"\u001b[39m\u001b[38;5;124mPineapple\u001b[39m\u001b[38;5;124m\"\u001b[39m, \u001b[38;5;241m0\u001b[39m))\n\u001b[0;32m      5\u001b[0m \u001b[38;5;28mprint\u001b[39m (tuple1\u001b[38;5;241m.\u001b[39mindex(\u001b[38;5;124m\"\u001b[39m\u001b[38;5;124mPineapple\u001b[39m\u001b[38;5;124m\"\u001b[39m, \u001b[38;5;241m2\u001b[39m))\n\u001b[1;32m----> 6\u001b[0m \u001b[38;5;28mprint\u001b[39m (tuple1\u001b[38;5;241m.\u001b[39mindex(\u001b[38;5;124m\"\u001b[39m\u001b[38;5;124mPineapple\u001b[39m\u001b[38;5;124m\"\u001b[39m, \u001b[38;5;241m5\u001b[39m))\n",
      "\u001b[1;31mValueError\u001b[0m: tuple.index(x): x not in tuple"
     ]
    }
   ],
   "source": [
    "tuple1 = ('Mango', 'Pineapple', 'Coconut', 'Banana', 'Pineapple', 'Coconut', 'Banana', 'Lime')\n",
    "print (tuple1)\n",
    "print (tuple1.index(\"Pineapple\"))\n",
    "print (tuple1.index(\"Pineapple\", 0))\n",
    "print (tuple1.index(\"Pineapple\", 2))\n",
    "print (tuple1.index(\"Pineapple\", 5))"
   ]
  },
  {
   "cell_type": "markdown",
   "id": "e97a0136-24b4-4874-a271-3ae67aefa821",
   "metadata": {},
   "source": [
    "## **Day-5**"
   ]
  },
  {
   "cell_type": "markdown",
   "id": "f76f4e1f-8213-4031-8bb4-db45f3aa3c42",
   "metadata": {},
   "source": [
    "## **Dictionary Processing**"
   ]
  },
  {
   "cell_type": "code",
   "execution_count": 65,
   "id": "2f049078-8f60-4568-9648-c7959ef921dc",
   "metadata": {},
   "outputs": [
    {
     "name": "stdout",
     "output_type": "stream",
     "text": [
      "{'apple': 'red', 'pineapple': 'yellow', 'mango': 'green', 'orange': 'orange', 'lime': 'green'} 5 <class 'dict'> 2507659536192\n",
      "dict_keys(['apple', 'pineapple', 'mango', 'orange', 'lime'])\n",
      "dict_values(['red', 'yellow', 'green', 'orange', 'green'])\n",
      "dict_items([('apple', 'red'), ('pineapple', 'yellow'), ('mango', 'green'), ('orange', 'orange'), ('lime', 'green')])\n"
     ]
    }
   ],
   "source": [
    "dict1 = {\"apple\":\"red\", \"pineapple\":\"yellow\", \"mango\":\"green\", \"orange\":\"orange\", \"lime\":\"green\"}\n",
    "print (dict1, len(dict1), type(dict1), id(dict1))\n",
    "print (dict1.keys())   # returns list of keys\n",
    "print (dict1.values()) # returns list of values\n",
    "print (dict1.items())  # returns list of tuples"
   ]
  },
  {
   "cell_type": "code",
   "execution_count": 67,
   "id": "89279f67-e03f-40d2-9d5a-9bb5cb13f4f0",
   "metadata": {},
   "outputs": [
    {
     "name": "stdout",
     "output_type": "stream",
     "text": [
      "{'apple': 'red', 'pineapple': 'yellow', 'mango': 'red', 'orange': 'orange'} 4 <class 'dict'> 2507659536192\n",
      "dict_keys(['apple', 'pineapple', 'mango', 'orange'])\n",
      "dict_values(['red', 'yellow', 'red', 'orange'])\n",
      "dict_items([('apple', 'red'), ('pineapple', 'yellow'), ('mango', 'red'), ('orange', 'orange')])\n"
     ]
    }
   ],
   "source": [
    "dict1 = {\"apple\":\"red\", \"pineapple\":\"yellow\", \"mango\":\"green\", \"orange\":\"orange\", \"mango\":\"red\"}\n",
    "print (dict1, len(dict1), type(dict1), id(dict1))\n",
    "print (dict1.keys())   # returns list of keys\n",
    "print (dict1.values()) # returns list of values\n",
    "print (dict1.items())  # returns list of tuples"
   ]
  },
  {
   "cell_type": "code",
   "execution_count": 68,
   "id": "0e0dbd88-8d31-4294-a813-901576ba92ce",
   "metadata": {},
   "outputs": [
    {
     "name": "stdout",
     "output_type": "stream",
     "text": [
      "green\n",
      "None green NA\n",
      "red yellow\n"
     ]
    },
    {
     "ename": "KeyError",
     "evalue": "'lime'",
     "output_type": "error",
     "traceback": [
      "\u001b[1;31m---------------------------------------------------------------------------\u001b[0m",
      "\u001b[1;31mKeyError\u001b[0m                                  Traceback (most recent call last)",
      "Cell \u001b[1;32mIn[68], line 5\u001b[0m\n\u001b[0;32m      3\u001b[0m \u001b[38;5;28mprint\u001b[39m (dict1\u001b[38;5;241m.\u001b[39mget(\u001b[38;5;124m'\u001b[39m\u001b[38;5;124mbanana\u001b[39m\u001b[38;5;124m'\u001b[39m), dict1\u001b[38;5;241m.\u001b[39mget(\u001b[38;5;124m'\u001b[39m\u001b[38;5;124mmango\u001b[39m\u001b[38;5;124m'\u001b[39m, \u001b[38;5;124m\"\u001b[39m\u001b[38;5;124mNA\u001b[39m\u001b[38;5;124m\"\u001b[39m), dict1\u001b[38;5;241m.\u001b[39mget(\u001b[38;5;124m'\u001b[39m\u001b[38;5;124mbanana\u001b[39m\u001b[38;5;124m'\u001b[39m, \u001b[38;5;124m\"\u001b[39m\u001b[38;5;124mNA\u001b[39m\u001b[38;5;124m\"\u001b[39m))\n\u001b[0;32m      4\u001b[0m \u001b[38;5;28mprint\u001b[39m (dict1[\u001b[38;5;124m'\u001b[39m\u001b[38;5;124mapple\u001b[39m\u001b[38;5;124m'\u001b[39m], dict1[\u001b[38;5;124m'\u001b[39m\u001b[38;5;124mpineapple\u001b[39m\u001b[38;5;124m'\u001b[39m])\n\u001b[1;32m----> 5\u001b[0m \u001b[38;5;28mprint\u001b[39m (dict1[\u001b[38;5;124m'\u001b[39m\u001b[38;5;124mlime\u001b[39m\u001b[38;5;124m'\u001b[39m])\n",
      "\u001b[1;31mKeyError\u001b[0m: 'lime'"
     ]
    }
   ],
   "source": [
    "dict1 = {\"apple\":\"red\", \"pineapple\":\"yellow\", \"mango\":\"green\", \"orange\":\"orange\"}\n",
    "print (dict1.get('mango'))\n",
    "print (dict1.get('banana'), dict1.get('mango', \"NA\"), dict1.get('banana', \"NA\"))\n",
    "print (dict1['apple'], dict1['pineapple'])\n",
    "print (dict1['lime'])"
   ]
  },
  {
   "cell_type": "code",
   "execution_count": 74,
   "id": "ed4c9515-8b76-441a-84ec-8ed097a3e89b",
   "metadata": {},
   "outputs": [
    {
     "name": "stdout",
     "output_type": "stream",
     "text": [
      "{'apple': 'red', 'pineapple': 'yellow', 'mango': 'green', 'orange': 'orange'}\n",
      "{'apple': 'red', 'pineapple': 'yellow', 'mango': 'green', 'orange': 'orange', 'banana': 'yellow'}\n",
      "{'apple': 'red', 'pineapple': 'yellow', 'mango': 'red', 'orange': 'orange', 'banana': 'yellow'}\n",
      "{'apple': 'red', 'pineapple': 'yellow', 'mango': 'red', 'orange': 'orange', 'banana': 'yellow', 'Mango': 'green'}\n"
     ]
    }
   ],
   "source": [
    "# insert and update operations on a dictionary\n",
    "dict1 = {\"apple\":\"red\", \"pineapple\":\"yellow\", \"mango\":\"green\", \"orange\":\"orange\"}\n",
    "print (dict1)\n",
    "dict1['banana'] = 'yellow'    # insert operation\n",
    "print (dict1)\n",
    "dict1['mango'] = 'red'        # update operation\n",
    "print (dict1)\n",
    "dict1['Mango'] = 'green'      # insert operation\n",
    "print (dict1)"
   ]
  },
  {
   "cell_type": "code",
   "execution_count": 75,
   "id": "4ebc023d-1272-43f6-a160-9fb3b366b30f",
   "metadata": {},
   "outputs": [
    {
     "name": "stdout",
     "output_type": "stream",
     "text": [
      "{'apple': 'red', 'pineapple': 'yellow', 'mango': 'green', 'orange': 'orange'}\n",
      "{'apple': 'red', 'pineapple': 'yellow', 'mango': 'green', 'orange': 'orange'}\n",
      "{'apple': 'red', 'pineapple': 'yellow', 'mango': 'green', 'orange': 'orange'}\n",
      "{'apple': 'red', 'pineapple': 'yellow', 'mango': 'green', 'orange': 'orange', 'banana': 'yellow'}\n"
     ]
    }
   ],
   "source": [
    "dict1 = {\"apple\":\"red\", \"pineapple\":\"yellow\", \"mango\":\"green\", \"orange\":\"orange\"}\n",
    "print (dict1)\n",
    "dict1.setdefault(\"apple\", \"deep red\")\n",
    "print (dict1)\n",
    "dict1.setdefault(\"mango\", \"red\")\n",
    "print (dict1)\n",
    "dict1.setdefault(\"banana\", \"yellow\")\n",
    "print (dict1)"
   ]
  },
  {
   "cell_type": "code",
   "execution_count": 76,
   "id": "07c53b91-13e4-4f09-9b91-e28fc1a73bd3",
   "metadata": {},
   "outputs": [
    {
     "name": "stdout",
     "output_type": "stream",
     "text": [
      "{'apple': 'red', 'pineapple': 'yellow', 'mango': 'green', 'orange': 'orange'}\n",
      "yellow\n",
      "{'apple': 'red', 'mango': 'green', 'orange': 'orange'}\n",
      "green\n",
      "{'apple': 'red', 'orange': 'orange'}\n"
     ]
    },
    {
     "ename": "KeyError",
     "evalue": "'mango'",
     "output_type": "error",
     "traceback": [
      "\u001b[1;31m---------------------------------------------------------------------------\u001b[0m",
      "\u001b[1;31mKeyError\u001b[0m                                  Traceback (most recent call last)",
      "Cell \u001b[1;32mIn[76], line 8\u001b[0m\n\u001b[0;32m      6\u001b[0m \u001b[38;5;28mprint\u001b[39m (dict1\u001b[38;5;241m.\u001b[39mpop(\u001b[38;5;124m'\u001b[39m\u001b[38;5;124mmango\u001b[39m\u001b[38;5;124m'\u001b[39m))\n\u001b[0;32m      7\u001b[0m \u001b[38;5;28mprint\u001b[39m (dict1)\n\u001b[1;32m----> 8\u001b[0m \u001b[38;5;28mprint\u001b[39m (dict1\u001b[38;5;241m.\u001b[39mpop(\u001b[38;5;124m'\u001b[39m\u001b[38;5;124mmango\u001b[39m\u001b[38;5;124m'\u001b[39m))\n\u001b[0;32m      9\u001b[0m \u001b[38;5;28mprint\u001b[39m (dict1)\n",
      "\u001b[1;31mKeyError\u001b[0m: 'mango'"
     ]
    }
   ],
   "source": [
    "# delete operation on dictionary\n",
    "dict1 = {\"apple\":\"red\", \"pineapple\":\"yellow\", \"mango\":\"green\", \"orange\":\"orange\"}\n",
    "print (dict1)\n",
    "print (dict1.pop('pineapple'))\n",
    "print (dict1)\n",
    "print (dict1.pop('mango'))\n",
    "print (dict1)\n",
    "print (dict1.pop('mango'))\n",
    "print (dict1)"
   ]
  },
  {
   "cell_type": "code",
   "execution_count": 77,
   "id": "c059c9f7-8fce-4bb5-9de7-63f1420db68d",
   "metadata": {},
   "outputs": [
    {
     "name": "stdout",
     "output_type": "stream",
     "text": [
      "{'apple': 'red', 'pineapple': 'yellow', 'mango': 'green', 'orange': 'orange'}\n",
      "('orange', 'orange')\n",
      "{'apple': 'red', 'pineapple': 'yellow', 'mango': 'green'}\n",
      "('mango', 'green')\n",
      "{'apple': 'red', 'pineapple': 'yellow'}\n"
     ]
    }
   ],
   "source": [
    "dict1 = {\"apple\":\"red\", \"pineapple\":\"yellow\", \"mango\":\"green\", \"orange\":\"orange\"}\n",
    "print (dict1)\n",
    "print (dict1.popitem())\n",
    "print (dict1)\n",
    "print (dict1.popitem())\n",
    "print (dict1)"
   ]
  },
  {
   "cell_type": "code",
   "execution_count": 78,
   "id": "49fce97c-1fd9-43df-a533-1c736fd09a21",
   "metadata": {},
   "outputs": [
    {
     "name": "stdout",
     "output_type": "stream",
     "text": [
      "{'apple': 'red', 'pineapple': 'yellow', 'mango': 'green', 'orange': 'orange'}\n",
      "{}\n"
     ]
    }
   ],
   "source": [
    "dict1 = {\"apple\":\"red\", \"pineapple\":\"yellow\", \"mango\":\"green\", \"orange\":\"orange\"}\n",
    "print (dict1)\n",
    "dict1.clear()\n",
    "print (dict1)"
   ]
  },
  {
   "cell_type": "code",
   "execution_count": 79,
   "id": "27a18a40-f095-4652-9166-a49f27c36cda",
   "metadata": {},
   "outputs": [
    {
     "name": "stdout",
     "output_type": "stream",
     "text": [
      "{'apple': 'red', 'pineapple': 'yellow', 'mango': 'green', 'orange': 'orange'}\n"
     ]
    },
    {
     "ename": "NameError",
     "evalue": "name 'dict1' is not defined",
     "output_type": "error",
     "traceback": [
      "\u001b[1;31m---------------------------------------------------------------------------\u001b[0m",
      "\u001b[1;31mNameError\u001b[0m                                 Traceback (most recent call last)",
      "Cell \u001b[1;32mIn[79], line 4\u001b[0m\n\u001b[0;32m      2\u001b[0m \u001b[38;5;28mprint\u001b[39m (dict1)\n\u001b[0;32m      3\u001b[0m \u001b[38;5;28;01mdel\u001b[39;00m dict1\n\u001b[1;32m----> 4\u001b[0m \u001b[38;5;28mprint\u001b[39m (dict1)\n",
      "\u001b[1;31mNameError\u001b[0m: name 'dict1' is not defined"
     ]
    }
   ],
   "source": [
    "dict1 = {\"apple\":\"red\", \"pineapple\":\"yellow\", \"mango\":\"green\", \"orange\":\"orange\"}\n",
    "print (dict1)\n",
    "del dict1\n",
    "print (dict1)"
   ]
  },
  {
   "cell_type": "code",
   "execution_count": 80,
   "id": "51e5cc85-1a71-4c6f-ae79-14493e2a02c3",
   "metadata": {},
   "outputs": [
    {
     "name": "stdout",
     "output_type": "stream",
     "text": [
      "{'apple': 'red', 'pineapple': 'yellow'} 2\n",
      "{'mango': 'green', 'orange': 'orange', 'lime': 'green'} 3\n",
      "{'apple': 'red', 'pineapple': 'yellow', 'mango': 'green', 'orange': 'orange', 'lime': 'green'} 5\n",
      "{'mango': 'green', 'orange': 'orange', 'lime': 'green'} 3\n"
     ]
    }
   ],
   "source": [
    "# concatenation of dictionaries\n",
    "fruits1 = {\"apple\":\"red\", \"pineapple\":\"yellow\"}\n",
    "fruits2 = {\"mango\":\"green\", \"orange\":\"orange\", \"lime\":\"green\"}\n",
    "print (fruits1, len(fruits1))\n",
    "print (fruits2, len(fruits2))\n",
    "fruits1.update(fruits2)\n",
    "print (fruits1, len(fruits1))\n",
    "print (fruits2, len(fruits2))"
   ]
  },
  {
   "cell_type": "code",
   "execution_count": 81,
   "id": "db5a59b8-4dc2-4327-86c6-a5316e796b9e",
   "metadata": {},
   "outputs": [
    {
     "name": "stdout",
     "output_type": "stream",
     "text": [
      "<zip object at 0x00000247DC29AD40>\n",
      "[('mango', 100), ('pineapple', 300), ('cherry', 500), ('lime', 200), ('banana', 700)]\n",
      "(('mango', 100), ('pineapple', 300), ('cherry', 500), ('lime', 200), ('banana', 700))\n",
      "{'mango': 100, 'pineapple': 300, 'cherry': 500, 'lime': 200, 'banana': 700}\n",
      "{'mango': 100, 'pineapple': 300, 'cherry': 500, 'lime': 200, 'banana': 700}\n"
     ]
    }
   ],
   "source": [
    "fruits = [\"mango\", 'pineapple', \"cherry\", \"lime\", \"banana\"]\n",
    "prices = [100, 300, 500, 200, 700, 900]\n",
    "print (zip(fruits, prices))\n",
    "print (list(zip(fruits, prices)))\n",
    "print (tuple(zip(fruits, prices)))\n",
    "print (dict(zip(fruits, prices)))\n",
    "print (dict(list(zip(fruits, prices))))"
   ]
  },
  {
   "cell_type": "code",
   "execution_count": 82,
   "id": "3c6aa361-dc92-46ab-a797-543b72d9f85e",
   "metadata": {},
   "outputs": [
    {
     "name": "stdout",
     "output_type": "stream",
     "text": [
      "March\n",
      "August\n",
      "Invalid Month No.\n"
     ]
    }
   ],
   "source": [
    "def switch_case_demo(month_no):\n",
    "    switcher = {1:\"January\",\n",
    "                2:\"February\",\n",
    "                3:\"March\",\n",
    "                4:\"April\",\n",
    "                5:\"May\",\n",
    "                6:\"June\",\n",
    "                7:\"July\",\n",
    "                8:\"August\",\n",
    "                9:\"September\",\n",
    "                10:\"October\",\n",
    "                11:\"November\",\n",
    "                12:\"December\"}\n",
    "    return switcher.get(month_no, \"Invalid Month No.\")\n",
    "\n",
    "print (switch_case_demo(3))\n",
    "print (switch_case_demo(8))\n",
    "print (switch_case_demo(13))"
   ]
  },
  {
   "cell_type": "markdown",
   "id": "0cb53bcc-5e1f-4870-9663-09086d2b0e72",
   "metadata": {},
   "source": [
    "## **Set Processing**"
   ]
  },
  {
   "cell_type": "code",
   "execution_count": 83,
   "id": "5d4c4663-40df-4f59-b1d9-b9897264f58e",
   "metadata": {},
   "outputs": [
    {
     "name": "stdout",
     "output_type": "stream",
     "text": [
      "{True, 38.5, 70000, 'Amitava', 'Chennai'} 5 2507666281120\n"
     ]
    }
   ],
   "source": [
    "# forming a set from a list\n",
    "list1 = ['Amitava', True, 38.5, 70000, \"Chennai\", True, 38.5, 70000, \"Chennai\", True, 38.5,\n",
    "         70000, \"Chennai\", True, 38.5]\n",
    "set1 = set(list1)\n",
    "print (set1, len(set1), id(set1))"
   ]
  },
  {
   "cell_type": "code",
   "execution_count": 84,
   "id": "b9c34dca-f171-417a-8b3e-3e320c51f22f",
   "metadata": {},
   "outputs": [
    {
     "name": "stdout",
     "output_type": "stream",
     "text": [
      "{True, 38.5, 70000, 'Amitava', 'Chennai'} 5 2507666280448\n"
     ]
    }
   ],
   "source": [
    "# forming a set from a tuple\n",
    "tuple1 = ('Amitava', True, 38.5, 70000, \"Chennai\", True, 38.5, 70000, \"Chennai\", True, 38.5,\n",
    "          70000, \"Chennai\", True, 38.5)\n",
    "set1 = set(tuple1)\n",
    "print (set1, len(set1), id(set1))"
   ]
  },
  {
   "cell_type": "code",
   "execution_count": 85,
   "id": "02c25fce-ec2b-4c3b-a7c7-152ed2905c11",
   "metadata": {},
   "outputs": [
    {
     "name": "stdout",
     "output_type": "stream",
     "text": [
      "{70000, True, 'Amitava', 'Chennai', 38.5} 5 2507666283584\n"
     ]
    }
   ],
   "source": [
    "# forming a set directly\n",
    "set1 = {'Amitava', True, 38.5, 70000, \"Chennai\", True, 38.5, 70000, \"Chennai\", True, 38.5,\n",
    "        70000, \"Chennai\", True, 38.5}\n",
    "print (set1, len(set1), id(set1))"
   ]
  },
  {
   "attachments": {
    "SetOperations.png": {
     "image/png": "[encoded data removed]"
    }
   },
   "cell_type": "markdown",
   "id": "7bfba663",
   "metadata": {},
   "source": [
    "![SetOperations.png](attachment:SetOperations.png)"
   ]
  },
  {
   "cell_type": "code",
   "execution_count": 86,
   "id": "e1ae2a35",
   "metadata": {},
   "outputs": [
    {
     "name": "stdout",
     "output_type": "stream",
     "text": [
      "{'python', 'cobra', 'viper'}\n",
      "{'python', 'c++', 'java'}\n",
      "{'python', 'cobra', 'viper', 'java', 'c++'}\n",
      "{'python', 'cobra', 'viper', 'java', 'c++'}\n",
      "{'python', 'cobra', 'viper'}\n",
      "{'python', 'c++', 'java'}\n"
     ]
    }
   ],
   "source": [
    "# set operations: union, intersection, set difference, symmetric difference\n",
    "snakes = {'viper', 'python', 'cobra'}\n",
    "languages = {'java', 'c++', 'python'}\n",
    "print (snakes)\n",
    "print (languages)\n",
    "result = snakes.union(languages)\n",
    "print (result)\n",
    "result = snakes | languages\n",
    "print (result)\n",
    "print (snakes)\n",
    "print (languages)"
   ]
  },
  {
   "cell_type": "code",
   "execution_count": 88,
   "id": "d321a248-eb62-4553-b4e8-b8ea87bb6e88",
   "metadata": {},
   "outputs": [
    {
     "name": "stdout",
     "output_type": "stream",
     "text": [
      "{'python', 'cobra', 'viper'}\n",
      "{'python', 'c++', 'java'}\n",
      "{'python'}\n",
      "{'python'}\n",
      "{'python'}\n",
      "{'python', 'c++', 'java'}\n"
     ]
    }
   ],
   "source": [
    "snakes = {'viper', 'python', 'cobra'}\n",
    "languages = {'java', 'c++', 'python'}\n",
    "print (snakes)\n",
    "print (languages)\n",
    "result = snakes.intersection(languages)\n",
    "print (result)\n",
    "result = snakes & languages\n",
    "print (result)\n",
    "snakes.intersection_update(languages)\n",
    "print (snakes)\n",
    "print (languages)"
   ]
  },
  {
   "cell_type": "code",
   "execution_count": 89,
   "id": "404108bf-24a4-4060-9b39-fca53928df85",
   "metadata": {},
   "outputs": [
    {
     "name": "stdout",
     "output_type": "stream",
     "text": [
      "{'python', 'cobra', 'viper'}\n",
      "{'python', 'c++', 'java'}\n",
      "{'cobra', 'viper'}\n",
      "{'cobra', 'viper'}\n",
      "{'cobra', 'viper'}\n",
      "{'python', 'c++', 'java'}\n"
     ]
    }
   ],
   "source": [
    "snakes = {'viper', 'python', 'cobra'}\n",
    "languages = {'java', 'c++', 'python'}\n",
    "print (snakes)\n",
    "print (languages)\n",
    "result = snakes.difference(languages)\n",
    "print (result)\n",
    "result = snakes - languages\n",
    "print (result)\n",
    "snakes.difference_update(languages)\n",
    "print (snakes)\n",
    "print (languages)"
   ]
  },
  {
   "cell_type": "code",
   "execution_count": 90,
   "id": "73ec05ee-8861-4a6a-8157-67e3c6d56e19",
   "metadata": {},
   "outputs": [
    {
     "name": "stdout",
     "output_type": "stream",
     "text": [
      "{'python', 'cobra', 'viper'}\n",
      "{'python', 'c++', 'java'}\n",
      "{'java', 'c++', 'cobra', 'viper'}\n",
      "{'java', 'c++', 'cobra', 'viper'}\n",
      "{'java', 'c++', 'cobra', 'viper'}\n",
      "{'python', 'c++', 'java'}\n"
     ]
    }
   ],
   "source": [
    "snakes = {'viper', 'python', 'cobra'}\n",
    "languages = {'java', 'c++', 'python'}\n",
    "print (snakes)\n",
    "print (languages)\n",
    "result = snakes.symmetric_difference(languages)\n",
    "print (result)\n",
    "result = snakes ^ languages\n",
    "print (result)\n",
    "snakes.symmetric_difference_update(languages)\n",
    "print (snakes)\n",
    "print (languages)"
   ]
  },
  {
   "cell_type": "code",
   "execution_count": 91,
   "id": "e10929b1-e3d0-4ace-b4e9-089eb4a1b4ff",
   "metadata": {},
   "outputs": [
    {
     "name": "stdout",
     "output_type": "stream",
     "text": [
      "False True False\n",
      "False False True\n",
      "True False False\n"
     ]
    }
   ],
   "source": [
    "set1 = {100, 200, 300}\n",
    "set2 = {400, 500, 600, 700, 800}\n",
    "set3 = {600, 700, 800}\n",
    "print (set1.issuperset(set2), set2.issuperset(set3), set3.issuperset(set2))\n",
    "print (set1.issubset(set2), set2.issubset(set3), set3.issubset(set2))\n",
    "print (set1.isdisjoint(set2), set2.isdisjoint(set3), set3.isdisjoint(set2))"
   ]
  },
  {
   "cell_type": "code",
   "execution_count": 92,
   "id": "b759c15f-750e-4395-9544-687b991a2121",
   "metadata": {},
   "outputs": [
    {
     "name": "stdout",
     "output_type": "stream",
     "text": [
      "{200, 100, 300} 3\n",
      "{200, 100, 400, 300} 4\n",
      "{100, 200, 300, 400, 700} 5\n",
      "{100, 200, 300, 400, 700} 5\n"
     ]
    }
   ],
   "source": [
    "# insert operation on a set\n",
    "set1 = {100, 200, 300}\n",
    "print (set1, len(set1))\n",
    "set1.add(400)\n",
    "print (set1, len(set1))\n",
    "set1.add(700)\n",
    "print (set1, len(set1))\n",
    "set1.add(700)\n",
    "print (set1, len(set1))"
   ]
  },
  {
   "cell_type": "code",
   "execution_count": 93,
   "id": "ab435447-eee9-415f-a2ca-a6edb5af1bbf",
   "metadata": {},
   "outputs": [
    {
     "name": "stdout",
     "output_type": "stream",
     "text": [
      "{400, 700, 100, 500, 200, 600, 300} 7\n",
      "{400, 700, 100, 500, 200, 600} 6\n",
      "{400, 100, 500, 200, 600} 5\n"
     ]
    },
    {
     "ename": "KeyError",
     "evalue": "700",
     "output_type": "error",
     "traceback": [
      "\u001b[1;31m---------------------------------------------------------------------------\u001b[0m",
      "\u001b[1;31mKeyError\u001b[0m                                  Traceback (most recent call last)",
      "Cell \u001b[1;32mIn[93], line 8\u001b[0m\n\u001b[0;32m      6\u001b[0m set1\u001b[38;5;241m.\u001b[39mremove(\u001b[38;5;241m700\u001b[39m)\n\u001b[0;32m      7\u001b[0m \u001b[38;5;28mprint\u001b[39m (set1, \u001b[38;5;28mlen\u001b[39m(set1))\n\u001b[1;32m----> 8\u001b[0m set1\u001b[38;5;241m.\u001b[39mremove(\u001b[38;5;241m700\u001b[39m)\n\u001b[0;32m      9\u001b[0m \u001b[38;5;28mprint\u001b[39m (set1, \u001b[38;5;28mlen\u001b[39m(set1))\n",
      "\u001b[1;31mKeyError\u001b[0m: 700"
     ]
    }
   ],
   "source": [
    "# delete operation on a set\n",
    "set1 = {100, 200, 300, 600, 700, 500, 400}\n",
    "print (set1, len(set1))\n",
    "set1.remove(300)\n",
    "print (set1, len(set1))\n",
    "set1.remove(700)\n",
    "print (set1, len(set1))\n",
    "set1.remove(700)\n",
    "print (set1, len(set1))"
   ]
  },
  {
   "cell_type": "code",
   "execution_count": 94,
   "id": "e3ea7a99-084c-42ad-8e26-1a26a10d8f78",
   "metadata": {},
   "outputs": [
    {
     "name": "stdout",
     "output_type": "stream",
     "text": [
      "{400, 700, 100, 500, 200, 600, 300} 7\n",
      "{400, 700, 100, 500, 200, 600} 6\n",
      "{400, 100, 500, 200, 600} 5\n",
      "{400, 100, 500, 200, 600} 5\n"
     ]
    }
   ],
   "source": [
    "set1 = {100, 200, 300, 600, 700, 500, 400}\n",
    "print (set1, len(set1))\n",
    "set1.discard(300)\n",
    "print (set1, len(set1))\n",
    "set1.discard(700)\n",
    "print (set1, len(set1))\n",
    "set1.discard(700)\n",
    "print (set1, len(set1))"
   ]
  },
  {
   "cell_type": "code",
   "execution_count": 95,
   "id": "2bde2529-5b1d-4918-b609-2931b290a061",
   "metadata": {},
   "outputs": [
    {
     "name": "stdout",
     "output_type": "stream",
     "text": [
      "{400, 700, 100, 500, 200, 600, 300} 7\n",
      "400\n",
      "{700, 100, 500, 200, 600, 300} 6\n",
      "700\n",
      "{100, 500, 200, 600, 300} 5\n",
      "100\n",
      "{500, 200, 600, 300} 4\n"
     ]
    }
   ],
   "source": [
    "set1 = {100, 200, 300, 600, 700, 500, 400}\n",
    "print (set1, len(set1))\n",
    "print (set1.pop())\n",
    "print (set1, len(set1))\n",
    "print (set1.pop())\n",
    "print (set1, len(set1))\n",
    "print (set1.pop())\n",
    "print (set1, len(set1))"
   ]
  },
  {
   "cell_type": "code",
   "execution_count": 96,
   "id": "8ae42e81-b214-4d2d-b5ee-d798e2e74639",
   "metadata": {},
   "outputs": [
    {
     "name": "stdout",
     "output_type": "stream",
     "text": [
      "{400, 700, 100, 500, 200, 600, 300} 7\n",
      "set() 0\n"
     ]
    }
   ],
   "source": [
    "set1 = {100, 200, 300, 600, 700, 500, 400}\n",
    "print (set1, len(set1))\n",
    "set1.clear()\n",
    "print (set1, len(set1))"
   ]
  },
  {
   "cell_type": "code",
   "execution_count": 97,
   "id": "0fd7eb6b-baa1-41d3-9485-cf34c0421c67",
   "metadata": {},
   "outputs": [
    {
     "name": "stdout",
     "output_type": "stream",
     "text": [
      "{400, 700, 100, 500, 200, 600, 300} 7\n"
     ]
    },
    {
     "ename": "NameError",
     "evalue": "name 'set1' is not defined",
     "output_type": "error",
     "traceback": [
      "\u001b[1;31m---------------------------------------------------------------------------\u001b[0m",
      "\u001b[1;31mNameError\u001b[0m                                 Traceback (most recent call last)",
      "Cell \u001b[1;32mIn[97], line 4\u001b[0m\n\u001b[0;32m      2\u001b[0m \u001b[38;5;28mprint\u001b[39m (set1, \u001b[38;5;28mlen\u001b[39m(set1))\n\u001b[0;32m      3\u001b[0m \u001b[38;5;28;01mdel\u001b[39;00m set1\n\u001b[1;32m----> 4\u001b[0m \u001b[38;5;28mprint\u001b[39m (set1, \u001b[38;5;28mlen\u001b[39m(set1))\n",
      "\u001b[1;31mNameError\u001b[0m: name 'set1' is not defined"
     ]
    }
   ],
   "source": [
    "set1 = {100, 200, 300, 600, 700, 500, 400}\n",
    "print (set1, len(set1))\n",
    "del set1\n",
    "print (set1, len(set1))"
   ]
  },
  {
   "cell_type": "code",
   "execution_count": 98,
   "id": "b4cfcf4a-185c-486a-8918-e2f5746b2b3f",
   "metadata": {},
   "outputs": [
    {
     "name": "stdout",
     "output_type": "stream",
     "text": [
      "{400, 700, 100, 500, 200, 600, 300}\n",
      "{400, 1600, 700, 100, 500, 200, 300}\n"
     ]
    }
   ],
   "source": [
    "# update operation on a set\n",
    "set1 = {100, 200, 300, 600, 700, 500, 400}\n",
    "print (set1)\n",
    "set1.remove(600)   # deleting the item\n",
    "set1.add(1600)   # inserting the item\n",
    "print (set1)"
   ]
  },
  {
   "cell_type": "code",
   "execution_count": 100,
   "id": "9b5bedf9-8b40-4472-ab86-417a2c58299a",
   "metadata": {},
   "outputs": [
    {
     "name": "stdout",
     "output_type": "stream",
     "text": [
      "{200, 100, 300}\n",
      "{400, 700, 500, 600, 300}\n",
      "{100, 200, 300, 400, 500, 600, 700}\n",
      "{400, 700, 500, 600, 300}\n"
     ]
    }
   ],
   "source": [
    "# concatenating two sets\n",
    "set1 = {100, 200, 300}\n",
    "set2 = {300, 600, 700, 500, 400}\n",
    "print (set1)\n",
    "print (set2)\n",
    "set1.update(set2)\n",
    "print (set1)\n",
    "print (set2)"
   ]
  },
  {
   "cell_type": "markdown",
   "id": "089b635d-66d7-49c8-b8e0-03f6c7945938",
   "metadata": {},
   "source": [
    "## **Frozen Set Processing**"
   ]
  },
  {
   "cell_type": "code",
   "execution_count": 101,
   "id": "df391602-d4e2-4b5c-a9f7-765359254e49",
   "metadata": {},
   "outputs": [
    {
     "name": "stdout",
     "output_type": "stream",
     "text": [
      "frozenset({True, 38.5, 70000, 'Amitava', 'Chennai'}) <class 'frozenset'> 5\n"
     ]
    }
   ],
   "source": [
    "# forming a frozen set from a list\n",
    "list1 = ['Amitava', True, 38.5, 70000, \"Chennai\", True, 38.5, 70000, \"Chennai\", True, 38.5,\n",
    "         70000, \"Chennai\", True, 38.5]\n",
    "set1 = frozenset(list1)\n",
    "print (set1, type(set1), len(set1))"
   ]
  },
  {
   "cell_type": "code",
   "execution_count": 102,
   "id": "7562e484-40a4-4e6a-9460-c3fa3e4f2b92",
   "metadata": {},
   "outputs": [
    {
     "name": "stdout",
     "output_type": "stream",
     "text": [
      "frozenset({True, 38.5, 70000, 'Amitava', 'Chennai'}) <class 'frozenset'> 5\n"
     ]
    }
   ],
   "source": [
    "# forming a frozen set from a tuple\n",
    "tuple1 = ('Amitava', True, 38.5, 70000, \"Chennai\", True, 38.5, 70000, \"Chennai\", True, 38.5,\n",
    "          70000, \"Chennai\", True, 38.5)\n",
    "set1 = frozenset(tuple1)\n",
    "print (set1, type(set1), len(set1))"
   ]
  },
  {
   "cell_type": "code",
   "execution_count": 103,
   "id": "ae513f14-97d3-4f15-9c2d-d0a6b52c9e5e",
   "metadata": {},
   "outputs": [
    {
     "name": "stdout",
     "output_type": "stream",
     "text": [
      "frozenset({70000, True, 'Amitava', 'Chennai', 38.5}) <class 'frozenset'> 5\n"
     ]
    }
   ],
   "source": [
    "# forming a frozen set from a set\n",
    "myset = {'Amitava', True, 38.5, 70000, \"Chennai\", True, 38.5, 70000, \"Chennai\", True, 38.5,\n",
    "         \"Chennai\", True, 38.5}\n",
    "set1 = frozenset(myset)\n",
    "print (set1, type(set1), len(set1))"
   ]
  },
  {
   "cell_type": "code",
   "execution_count": 104,
   "id": "ff3dcbff-2fac-4c12-8915-2d60c156cc08",
   "metadata": {},
   "outputs": [
    {
     "name": "stdout",
     "output_type": "stream",
     "text": [
      "frozenset({'python', 'cobra', 'viper'})\n",
      "frozenset({'python', 'c++', 'java'})\n",
      "frozenset({'python', 'cobra', 'viper', 'java', 'c++'})\n",
      "frozenset({'python', 'cobra', 'viper', 'java', 'c++'})\n"
     ]
    }
   ],
   "source": [
    "# frozen-set operations: union, intersection, difference, symmetric difference\n",
    "snakes = frozenset({'viper', 'python', 'cobra'})\n",
    "languages = frozenset({'java', 'c++', 'python'})\n",
    "print (snakes)\n",
    "print (languages)\n",
    "result = snakes.union(languages)\n",
    "print (result)\n",
    "result = snakes | languages\n",
    "print (result)"
   ]
  },
  {
   "cell_type": "code",
   "execution_count": 105,
   "id": "931c4254-cda4-49e4-b4eb-2bf9f1a3091e",
   "metadata": {},
   "outputs": [
    {
     "name": "stdout",
     "output_type": "stream",
     "text": [
      "frozenset({'python', 'cobra', 'viper'})\n",
      "frozenset({'python', 'c++', 'java'})\n",
      "frozenset({'python'})\n",
      "frozenset({'python'})\n"
     ]
    }
   ],
   "source": [
    "snakes = frozenset({'viper', 'python', 'cobra'})\n",
    "languages = frozenset({'java', 'c++', 'python'})\n",
    "print (snakes)\n",
    "print (languages)\n",
    "result = snakes.intersection(languages)\n",
    "print (result)\n",
    "result = snakes & languages\n",
    "print (result)"
   ]
  },
  {
   "cell_type": "code",
   "execution_count": 106,
   "id": "3873e6b6-2d40-4fc0-a021-b5581c27d249",
   "metadata": {},
   "outputs": [
    {
     "name": "stdout",
     "output_type": "stream",
     "text": [
      "frozenset({'python', 'cobra', 'viper'})\n",
      "frozenset({'python', 'c++', 'java'})\n",
      "frozenset({'cobra', 'viper'})\n",
      "frozenset({'cobra', 'viper'})\n"
     ]
    }
   ],
   "source": [
    "snakes = frozenset({'viper', 'python', 'cobra'})\n",
    "languages = frozenset({'java', 'c++', 'python'})\n",
    "print (snakes)\n",
    "print (languages)\n",
    "result = snakes.difference(languages)\n",
    "print (result)\n",
    "result = snakes - languages\n",
    "print (result)"
   ]
  },
  {
   "cell_type": "code",
   "execution_count": 109,
   "id": "a6f3d68e-bd54-4511-82d3-fcf3021abd7b",
   "metadata": {},
   "outputs": [
    {
     "name": "stdout",
     "output_type": "stream",
     "text": [
      "False True False\n",
      "False False True\n",
      "True False False\n",
      "frozenset({200, 100, 300})\n",
      "frozenset({800, 400, 500, 600, 700})\n"
     ]
    }
   ],
   "source": [
    "set1 = frozenset({100, 200, 300})\n",
    "set2 = frozenset({400, 500, 600, 700, 800})\n",
    "set3 = frozenset({600, 700, 800})\n",
    "print (set1.issuperset(set2), set2.issuperset(set3), set3.issuperset(set2))\n",
    "print (set1.issubset(set2), set2.issubset(set3), set3.issubset(set2))\n",
    "print (set1.isdisjoint(set2), set2.isdisjoint(set3), set3.isdisjoint(set2))\n",
    "print (set1)\n",
    "print (set2)"
   ]
  }
 ],
 "metadata": {
  "kernelspec": {
   "display_name": "Python 3 (ipykernel)",
   "language": "python",
   "name": "python3"
  },
  "language_info": {
   "codemirror_mode": {
    "name": "ipython",
    "version": 3
   },
   "file_extension": ".py",
   "mimetype": "text/x-python",
   "name": "python",
   "nbconvert_exporter": "python",
   "pygments_lexer": "ipython3",
   "version": "3.11.7"
  }
 },
 "nbformat": 4,
 "nbformat_minor": 5
}
