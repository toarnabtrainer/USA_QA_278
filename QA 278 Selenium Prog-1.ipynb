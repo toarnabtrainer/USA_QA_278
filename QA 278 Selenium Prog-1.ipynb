{
 "cells": [
  {
   "cell_type": "markdown",
   "id": "f590b7b5-c07b-481f-bbcd-b055452037b1",
   "metadata": {},
   "source": [
    "## **Selenium Code Example - 1/3**"
   ]
  },
  {
   "cell_type": "markdown",
   "id": "a9a3f346-61d5-4fd9-81d0-c6de68d96c48",
   "metadata": {},
   "source": [
    "## **Start Chrome Driver using executable path and start any webpage with get() function**"
   ]
  },
  {
   "cell_type": "code",
   "execution_count": 1,
   "id": "3b6013e6-e2fe-402c-8522-31e3bcc6080b",
   "metadata": {},
   "outputs": [],
   "source": [
    "# importing all the required modules\n",
    "from selenium import webdriver\n",
    "from selenium.webdriver.chrome.service import Service"
   ]
  },
  {
   "cell_type": "code",
   "execution_count": 2,
   "id": "af51483a-4efa-492d-b369-862898e63e1c",
   "metadata": {},
   "outputs": [
    {
     "name": "stdout",
     "output_type": "stream",
     "text": [
      "4.18.1\n"
     ]
    }
   ],
   "source": [
    "# now check the version of selenium\n",
    "print (webdriver.__version__)"
   ]
  },
  {
   "cell_type": "code",
   "execution_count": 4,
   "id": "78a74e89-dac1-43f3-b296-7082a0c3d346",
   "metadata": {},
   "outputs": [],
   "source": [
    "# at first check whether the chrome driver is present in the present folder\n",
    "# or not, so we can access it without any path if it is in the present\n",
    "# folder, otherwise we shall have to provide valid and qualified path\n",
    "# to access it\n",
    "service = Service(executable_path = \"./chromedriver.exe\")\n",
    "options = webdriver.ChromeOptions()\n",
    "driver = webdriver.Chrome(service = service, options = options)"
   ]
  },
  {
   "cell_type": "code",
   "execution_count": 5,
   "id": "4c960af6-470b-4757-a58e-80d2e8eab7a5",
   "metadata": {},
   "outputs": [],
   "source": [
    "# start wikipedia page\n",
    "driver.get(\"https://en.wikipedia.org/wiki/Main_Page\")"
   ]
  },
  {
   "cell_type": "code",
   "execution_count": 6,
   "id": "edde1fe4-39c9-4155-bee7-5db8ee05aa33",
   "metadata": {},
   "outputs": [
    {
     "name": "stdout",
     "output_type": "stream",
     "text": [
      "https://en.wikipedia.org/wiki/Main_Page\n",
      "Wikipedia, the free encyclopedia\n"
     ]
    }
   ],
   "source": [
    "# get the current URL and current title of the home page\n",
    "print (driver.current_url)\n",
    "print (driver.title)"
   ]
  },
  {
   "cell_type": "code",
   "execution_count": 7,
   "id": "e90d5ee0-12c2-4035-bccc-f6fcf6b3ae6c",
   "metadata": {},
   "outputs": [],
   "source": [
    "# now, let us open a new web portal, e.g. Google\n",
    "driver.get('https://www.google.com/')"
   ]
  },
  {
   "cell_type": "code",
   "execution_count": 8,
   "id": "8a531773-b018-4321-a6b3-b92a8f2469b0",
   "metadata": {},
   "outputs": [
    {
     "name": "stdout",
     "output_type": "stream",
     "text": [
      "https://www.google.com/\n",
      "Google\n"
     ]
    }
   ],
   "source": [
    "# get the current URL and current Title of the home page opened\n",
    "print (driver.current_url)\n",
    "print (driver.title)"
   ]
  },
  {
   "cell_type": "code",
   "execution_count": 9,
   "id": "47ad6b00-3405-4cea-8ceb-8a2b0ee486de",
   "metadata": {},
   "outputs": [
    {
     "name": "stdout",
     "output_type": "stream",
     "text": [
      "https://en.wikipedia.org/wiki/Main_Page\n",
      "Wikipedia, the free encyclopedia\n"
     ]
    }
   ],
   "source": [
    "# now return back to the previous page with back() function\n",
    "driver.back()\n",
    "print (driver.current_url)\n",
    "print (driver.title)"
   ]
  },
  {
   "cell_type": "code",
   "execution_count": 10,
   "id": "cd48f7aa-0d4d-415e-8d39-62d6d22ee7d0",
   "metadata": {},
   "outputs": [
    {
     "name": "stdout",
     "output_type": "stream",
     "text": [
      "https://www.google.com/\n",
      "Google\n"
     ]
    }
   ],
   "source": [
    "# now go to the Google page once by using the forward() function\n",
    "driver.forward()\n",
    "print (driver.current_url)\n",
    "print (driver.title)"
   ]
  },
  {
   "cell_type": "code",
   "execution_count": 11,
   "id": "930bbd09-defb-45bd-b34d-4061cdce5006",
   "metadata": {},
   "outputs": [],
   "source": [
    "# close all the windows which were opened by the driver\n",
    "driver.quit()"
   ]
  },
  {
   "cell_type": "code",
   "execution_count": null,
   "id": "b4179ffe-0f83-4223-8dce-e52aa21ecefc",
   "metadata": {},
   "outputs": [],
   "source": []
  }
 ],
 "metadata": {
  "kernelspec": {
   "display_name": "Python 3 (ipykernel)",
   "language": "python",
   "name": "python3"
  },
  "language_info": {
   "codemirror_mode": {
    "name": "ipython",
    "version": 3
   },
   "file_extension": ".py",
   "mimetype": "text/x-python",
   "name": "python",
   "nbconvert_exporter": "python",
   "pygments_lexer": "ipython3",
   "version": "3.11.7"
  }
 },
 "nbformat": 4,
 "nbformat_minor": 5
}
