{
 "cells": [
  {
   "cell_type": "markdown",
   "id": "88aff975-ce42-4dc8-8cb6-9e5bdfdab0bf",
   "metadata": {},
   "source": [
    "## **Selenium Code Example - 2/3**"
   ]
  },
  {
   "cell_type": "markdown",
   "id": "6bd18779-ae3e-4782-a500-79326b808717",
   "metadata": {},
   "source": [
    "## **Selenium control options to write text, button press, select menu and others**"
   ]
  },
  {
   "cell_type": "code",
   "execution_count": 2,
   "id": "fa91751b-cfdf-4a91-a64e-83e4ab5876a8",
   "metadata": {},
   "outputs": [],
   "source": [
    "# importing all the required modules\n",
    "from selenium import webdriver\n",
    "from selenium.webdriver.chrome.service import Service"
   ]
  },
  {
   "cell_type": "code",
   "execution_count": 3,
   "id": "29cad60c-9473-4321-a128-2dd29672917a",
   "metadata": {},
   "outputs": [
    {
     "name": "stdout",
     "output_type": "stream",
     "text": [
      "4.18.1\n"
     ]
    }
   ],
   "source": [
    "# checking and printing the selenium version\n",
    "print (webdriver.__version__)"
   ]
  },
  {
   "cell_type": "code",
   "execution_count": 4,
   "id": "2d7e6ca2-938c-4358-867e-161f565d94cb",
   "metadata": {},
   "outputs": [],
   "source": [
    "# now using the chrome driver opening a chrome instance\n",
    "service = Service(executable_path=\"./chromedriver.exe\")\n",
    "options = webdriver.ChromeOptions()\n",
    "driver = webdriver.Chrome(service=service, options=options)"
   ]
  },
  {
   "cell_type": "code",
   "execution_count": 5,
   "id": "ddea91d8-dd32-4fdb-993c-b73d6e5f3c93",
   "metadata": {},
   "outputs": [],
   "source": [
    "# open the web portal to calculate nCr operations\n",
    "# https://www.calculatorsoup.com => Discrete Math => Combinations Calculator (Get the page)\n",
    "URL = \"https://www.calculatorsoup.com/calculators/discretemathematics/combinations.php\"\n",
    "driver.get(URL)"
   ]
  },
  {
   "cell_type": "code",
   "execution_count": 8,
   "id": "21620b8d-a1eb-4475-86d6-2eb9697aabba",
   "metadata": {},
   "outputs": [],
   "source": [
    "num1 = \"10\"\n",
    "n_input = driver.find_element(\"id\", \"n\")\n",
    "n_input.clear()\n",
    "n_input.send_keys(num1)"
   ]
  },
  {
   "cell_type": "code",
   "execution_count": 9,
   "id": "af737474-c65e-44fe-8a22-b85e50a3f5ce",
   "metadata": {},
   "outputs": [],
   "source": [
    "# num2 = \"5\"\n",
    "# r_input = driver.find_element(\"id\", \"r\")\n",
    "# r_input.clear()\n",
    "# r_input.send_keys(num2)"
   ]
  },
  {
   "cell_type": "code",
   "execution_count": 11,
   "id": "c737488d-86d8-4f7c-8dee-5874c73a9f6a",
   "metadata": {},
   "outputs": [],
   "source": [
    "# to press keys, we can use the following library\n",
    "from selenium.webdriver.common.keys import Keys"
   ]
  },
  {
   "cell_type": "code",
   "execution_count": 12,
   "id": "ec2d7a29-4c99-4197-9fa2-afccef1eaac1",
   "metadata": {},
   "outputs": [],
   "source": [
    "# press TAB to go to the next input area\n",
    "num2 = \"5\"\n",
    "n_input.send_keys(Keys.TAB)\n",
    "# select currently selected input area\n",
    "r_input = driver.switch_to.active_element\n",
    "# put the r value inside the text box\n",
    "r_input.clear()\n",
    "r_input.send_keys(num2)"
   ]
  },
  {
   "cell_type": "code",
   "execution_count": 13,
   "id": "683efac2-4346-4ad2-815b-3afe6d747156",
   "metadata": {},
   "outputs": [],
   "source": [
    "# now go to the calculate button and click on it\n",
    "calculate_button = driver.find_element(\"id\", \"calculateButton\")\n",
    "calculate_button.click()"
   ]
  },
  {
   "cell_type": "code",
   "execution_count": 15,
   "id": "ef3eca8a-bbab-4530-9c87-666b47e8c4e2",
   "metadata": {},
   "outputs": [
    {
     "name": "stdout",
     "output_type": "stream",
     "text": [
      "252\n"
     ]
    }
   ],
   "source": [
    "# read the result from the result area\n",
    "result_area = driver.find_element(\"id\", \"answer\")\n",
    "result = result_area.text\n",
    "# print (result)\n",
    "result = int(result.split(\"\\n\")[0].split(\" \")[1])\n",
    "print (result)"
   ]
  },
  {
   "cell_type": "code",
   "execution_count": 17,
   "id": "10038e0a-ff2f-439a-89c1-2194affd6a54",
   "metadata": {},
   "outputs": [
    {
     "name": "stdout",
     "output_type": "stream",
     "text": [
      "252\n"
     ]
    }
   ],
   "source": [
    "import math\n",
    "actual_result = math.comb(int(num1), int(num2))\n",
    "print (actual_result)"
   ]
  },
  {
   "cell_type": "code",
   "execution_count": 18,
   "id": "46414735-5ef0-4da1-b828-acf5cc3dd619",
   "metadata": {},
   "outputs": [
    {
     "name": "stdout",
     "output_type": "stream",
     "text": [
      "PASS\n"
     ]
    }
   ],
   "source": [
    "if (result == actual_result):\n",
    "    print (\"PASS\")\n",
    "else:\n",
    "    print (\"FAIL\")"
   ]
  },
  {
   "cell_type": "code",
   "execution_count": 19,
   "id": "9f73f422-b841-4b0f-a90d-b78cde6fbd0f",
   "metadata": {},
   "outputs": [],
   "source": [
    "# close the chrome instance\n",
    "driver.quit()"
   ]
  },
  {
   "cell_type": "code",
   "execution_count": null,
   "id": "c9f921c5-2657-4604-bf30-aa45018e318e",
   "metadata": {},
   "outputs": [],
   "source": []
  }
 ],
 "metadata": {
  "kernelspec": {
   "display_name": "Python 3 (ipykernel)",
   "language": "python",
   "name": "python3"
  },
  "language_info": {
   "codemirror_mode": {
    "name": "ipython",
    "version": 3
   },
   "file_extension": ".py",
   "mimetype": "text/x-python",
   "name": "python",
   "nbconvert_exporter": "python",
   "pygments_lexer": "ipython3",
   "version": "3.11.7"
  }
 },
 "nbformat": 4,
 "nbformat_minor": 5
}
