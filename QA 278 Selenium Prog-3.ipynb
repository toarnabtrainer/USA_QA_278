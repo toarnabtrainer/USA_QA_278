{
 "cells": [
  {
   "cell_type": "markdown",
   "id": "0fa5fad8-b401-42b4-8fd1-9e357bccfe6e",
   "metadata": {},
   "source": [
    "## **Selenium Code Example - 3/3**"
   ]
  },
  {
   "cell_type": "markdown",
   "id": "c610cd1b-ee58-4c4c-847f-6d8e49b7663b",
   "metadata": {},
   "source": [
    "## **Selenium control options to write text, button press, dropdown list, checkbox and others**"
   ]
  },
  {
   "cell_type": "code",
   "execution_count": 1,
   "id": "3b6013e6-e2fe-402c-8522-31e3bcc6080b",
   "metadata": {},
   "outputs": [],
   "source": [
    "# importing all required modules\n",
    "from selenium import webdriver\n",
    "from selenium.webdriver.chrome.service import Service"
   ]
  },
  {
   "cell_type": "code",
   "execution_count": 2,
   "id": "af51483a-4efa-492d-b369-862898e63e1c",
   "metadata": {},
   "outputs": [
    {
     "name": "stdout",
     "output_type": "stream",
     "text": [
      "4.18.1\n"
     ]
    }
   ],
   "source": [
    "# also check the current version of selenium\n",
    "print (webdriver.__version__)"
   ]
  },
  {
   "cell_type": "code",
   "execution_count": 3,
   "id": "78a74e89-dac1-43f3-b296-7082a0c3d346",
   "metadata": {},
   "outputs": [],
   "source": [
    "# if the chrome driver is present in the current path then we can access\n",
    "# it directly with the relative path or no path at all\n",
    "service = Service(executable_path='./chromedriver.exe')\n",
    "options = webdriver.ChromeOptions()\n",
    "driver = webdriver.Chrome(service = service, options = options)"
   ]
  },
  {
   "cell_type": "code",
   "execution_count": 4,
   "id": "4c960af6-470b-4757-a58e-80d2e8eab7a5",
   "metadata": {},
   "outputs": [],
   "source": [
    "# now we shall go to another website for our currency conversion\n",
    "# https://www.calculator.net => Click on \"All Calculators\" => Click on \"Currency Calculator\"\n",
    "driver.get(\"https://www.calculator.net/currency-calculator.html\")"
   ]
  },
  {
   "cell_type": "code",
   "execution_count": 5,
   "id": "edde1fe4-39c9-4155-bee7-5db8ee05aa33",
   "metadata": {},
   "outputs": [],
   "source": [
    "# import select and checkbox from selenium library to get HTML select tags\n",
    "from selenium.webdriver.support.ui import Select"
   ]
  },
  {
   "cell_type": "code",
   "execution_count": 6,
   "id": "e90d5ee0-12c2-4035-bccc-f6fcf6b3ae6c",
   "metadata": {},
   "outputs": [],
   "source": [
    "# now select the FROM currency as INR and TO currency as USD from the drop down menu\n",
    "from_currency = Select(driver.find_element(\"id\", \"efrom\"))\n",
    "from_currency.select_by_visible_text(\"INR: Indian Rupee\")   # text visible to the user"
   ]
  },
  {
   "cell_type": "code",
   "execution_count": 7,
   "id": "8a531773-b018-4321-a6b3-b92a8f2469b0",
   "metadata": {},
   "outputs": [],
   "source": [
    "to_currency = Select(driver.find_element(\"id\", \"eto\"))\n",
    "to_currency.select_by_value(\"USD\")    # value is given inside the HTML text"
   ]
  },
  {
   "cell_type": "code",
   "execution_count": 10,
   "id": "47ad6b00-3405-4cea-8ceb-8a2b0ee486de",
   "metadata": {},
   "outputs": [],
   "source": [
    "# put the amount 500\n",
    "amount_textbox = driver.find_element(\"id\", \"eamount\")\n",
    "# clear the text field at first and then put the value there\n",
    "amount_textbox.clear()\n",
    "amount_textbox.send_keys(\"500\")"
   ]
  },
  {
   "cell_type": "code",
   "execution_count": 11,
   "id": "cd48f7aa-0d4d-415e-8d39-62d6d22ee7d0",
   "metadata": {},
   "outputs": [],
   "source": [
    "# click on the calculate button\n",
    "calculate_button = driver.find_element(\"xpath\", '//*[@id = \"standard\"]/tbody/tr[5]/td[2]/input[2]')\n",
    "calculate_button.click()"
   ]
  },
  {
   "cell_type": "code",
   "execution_count": 12,
   "id": "930bbd09-defb-45bd-b34d-4061cdce5006",
   "metadata": {},
   "outputs": [],
   "source": [
    "checkbox = driver.find_element('xpath', '//*[@id = \"ccmajorccsettingbox\"]')\n",
    "# if this is already checked then uncheck it by the help of the java script\n",
    "if checkbox.is_selected():\n",
    "    driver.execute_script(\"arguments[0].click()\", checkbox)"
   ]
  },
  {
   "cell_type": "code",
   "execution_count": 13,
   "id": "9f538b06-9564-4440-a88f-1ec10c1d6f7d",
   "metadata": {},
   "outputs": [],
   "source": [
    "from_currency = Select(driver.find_element(\"id\", \"efrom\"))\n",
    "from_currency.select_by_visible_text(\"USD: United States Dollar\")   # text visible to the user"
   ]
  },
  {
   "cell_type": "code",
   "execution_count": 14,
   "id": "5c599838-9067-46da-813b-9ff53504d9e4",
   "metadata": {},
   "outputs": [],
   "source": [
    "to_currency = Select(driver.find_element(\"id\", \"eto\"))\n",
    "to_currency.select_by_value(\"ZWL\")    # value is given inside the HTML text"
   ]
  },
  {
   "cell_type": "code",
   "execution_count": 15,
   "id": "40dd23f6-b276-4aff-90c4-619a3319500f",
   "metadata": {},
   "outputs": [],
   "source": [
    "# put the amount 1000\n",
    "amount_textbox = driver.find_element(\"id\", \"eamount\")\n",
    "# clear the text field at first and then put the value there\n",
    "amount_textbox.clear()\n",
    "amount_textbox.send_keys(\"1000\")"
   ]
  },
  {
   "cell_type": "code",
   "execution_count": 16,
   "id": "931e75a2-0d89-40a4-aab5-4197bd1e9aae",
   "metadata": {},
   "outputs": [],
   "source": [
    "# click on the calculate button\n",
    "calculate_button = driver.find_element(\"xpath\", '//*[@id = \"standard\"]/tbody/tr[5]/td[2]/input[2]')\n",
    "calculate_button.click()"
   ]
  },
  {
   "cell_type": "code",
   "execution_count": null,
   "id": "203f841b-9f40-4e71-97a0-b432e9795f38",
   "metadata": {},
   "outputs": [],
   "source": [
    "driver.quit()"
   ]
  },
  {
   "cell_type": "code",
   "execution_count": null,
   "id": "b4179ffe-0f83-4223-8dce-e52aa21ecefc",
   "metadata": {},
   "outputs": [],
   "source": []
  }
 ],
 "metadata": {
  "kernelspec": {
   "display_name": "Python 3 (ipykernel)",
   "language": "python",
   "name": "python3"
  },
  "language_info": {
   "codemirror_mode": {
    "name": "ipython",
    "version": 3
   },
   "file_extension": ".py",
   "mimetype": "text/x-python",
   "name": "python",
   "nbconvert_exporter": "python",
   "pygments_lexer": "ipython3",
   "version": "3.11.7"
  }
 },
 "nbformat": 4,
 "nbformat_minor": 5
}
